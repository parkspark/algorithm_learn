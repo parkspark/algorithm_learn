{
 "cells": [
  {
   "attachments": {},
   "cell_type": "markdown",
   "metadata": {},
   "source": [
    "Dynamic programming (DP)\n",
    "\n",
    "주로 \n",
    "문제 : n 에 대해서 f(n)의 답이  return 이 되도록 푸시오.\n",
    "\n",
    "여기서에서 변형을 준다.\n",
    "\n",
    "숫자가 다르거나 일부 부분 f(n) = f(n-1) + f(n-2)  피보나치 수열,\n"
   ]
  },
  {
   "cell_type": "code",
   "execution_count": null,
   "metadata": {},
   "outputs": [],
   "source": [
    "def solution(n):\n",
    "    return 2**n-1"
   ]
  },
  {
   "attachments": {},
   "cell_type": "markdown",
   "metadata": {},
   "source": [
    "답만 맞추면 된다면 이걸로 해결된다.\n",
    "다만 시간복잡도가 올라감"
   ]
  },
  {
   "cell_type": "code",
   "execution_count": 1,
   "metadata": {},
   "outputs": [],
   "source": [
    "hanoi_answer = {1:1}\n",
    "def hanoi(n):\n",
    "    if n in hanoi_answer: return hanoi_answer[n]\n",
    "    else:\n",
    "        # return func(n-1)+1+func(n-1)\n",
    "        return 2 * hanoi(n-1) + 1"
   ]
  },
  {
   "cell_type": "code",
   "execution_count": 4,
   "metadata": {},
   "outputs": [
    {
     "name": "stdout",
     "output_type": "stream",
     "text": [
      "7\n",
      "31\n",
      "32767\n"
     ]
    }
   ],
   "source": [
    "print(hanoi(3))\n",
    "print(hanoi(5))\n",
    "print(hanoi(15))"
   ]
  },
  {
   "attachments": {},
   "cell_type": "markdown",
   "metadata": {},
   "source": [
    "재귀함수로 해결하는게 편하긴한데 반복문을 사용하는 것이 더 좋다.\n",
    "왜 좋은가 -> 나중에 추가\n",
    "\n",
    "\n"
   ]
  },
  {
   "cell_type": "code",
   "execution_count": 5,
   "metadata": {},
   "outputs": [],
   "source": [
    "def hanoi(n):\n",
    "    seconds = [1] # 최소 숫자 케이스 미리 연산\n",
    "    for i in range(n-1):\n",
    "        seconds.append(2 * seconds[-1] + 1)  # 리스트 필요한 index 값을 상대적으로 계산해서 append\n",
    "    return seconds[-1] # 마지막 item을 return"
   ]
  },
  {
   "cell_type": "code",
   "execution_count": 6,
   "metadata": {},
   "outputs": [
    {
     "name": "stdout",
     "output_type": "stream",
     "text": [
      "7\n",
      "31\n",
      "32767\n"
     ]
    }
   ],
   "source": [
    "print(hanoi(3))\n",
    "print(hanoi(5))\n",
    "print(hanoi(15))"
   ]
  },
  {
   "attachments": {},
   "cell_type": "markdown",
   "metadata": {},
   "source": [
    "Dp 가 어려운 이유는 이것이 dp로 해결하는 문제인가? 가 잘 안보이기 때문이다.\n",
    "\n",
    "그 해결법은 이렇다.\n",
    "\n",
    "1. 전형적인 패턴들 \n",
    "    - 미로찾기/좌표에서 블록 : BFS\n",
    "    - 최대/최소값과 비교 : stack\n",
    "\n",
    "2. 패턴에 없는 것\n",
    "    - DP로 풀 수 있나? 의심\n",
    "    - 아니면 말고 ㅋㅋ"
   ]
  },
  {
   "attachments": {},
   "cell_type": "markdown",
   "metadata": {},
   "source": [
    "DP 연습문제 : 계단 점프\n",
    "한 번에 2,3,5칸 씩 뛸 수 있을때, n 번째 칸으로 갈 수 있는 경우의 수를 구하여라"
   ]
  },
  {
   "cell_type": "code",
   "execution_count": null,
   "metadata": {},
   "outputs": [],
   "source": []
  }
 ],
 "metadata": {
  "kernelspec": {
   "display_name": "Python 3",
   "language": "python",
   "name": "python3"
  },
  "language_info": {
   "codemirror_mode": {
    "name": "ipython",
    "version": 3
   },
   "file_extension": ".py",
   "mimetype": "text/x-python",
   "name": "python",
   "nbconvert_exporter": "python",
   "pygments_lexer": "ipython3",
   "version": "3.7.9"
  },
  "orig_nbformat": 4
 },
 "nbformat": 4,
 "nbformat_minor": 2
}
