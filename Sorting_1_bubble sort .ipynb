{
 "cells": [
  {
   "attachments": {},
   "cell_type": "markdown",
   "metadata": {},
   "source": [
    "# Sorting_1, bubble sort\n",
    "(https://parkpakrsu.tistory.com/258)\n",
    "\n",
    "One way to sort numbers in order in size.\n",
    "The machanism is as follows.\n",
    "\n",
    "1. get a list of randomized numbers\n",
    "2. start at the begginning of the list and compare its size to the number next to it.\n",
    "3. if the number on the left is larged than the number on the right, swap the position of the two numbers.\n",
    "4. move one space to the right and compare the size with the number next to it, swapping places if necessary.\n",
    "5. repeat to the end ofthe list\n",
    "6. the largest number in the list is on the far right.\n",
    "7. repeat stpes 2 through 6 for all but the largest number in the list.\n",
    "8. repeat this process until there are no numbers left.\n",
    "\n",
    "\n",
    "숫자들을 크기 순으로 정렬하는 방법 중 하나.\n",
    "\n",
    "메커니즘은 이렇다.\n",
    "\n",
    "1. 숫자들이 무작위로 나열된 리스트를 확인\n",
    "\n",
    "2. 리스트의 맨 처음부터 시작해서 바로 옆에 있는 숫자와 크기를 비교.\n",
    "\n",
    "3. 만약 왼쪽에 있는 숫자가 오른쪽 숫자보다 크다면, 두 숫자의 자리를 바꿈\n",
    "\n",
    "4. 오른쪽으로 한 칸 이동하여 또 옆에 있는 숫자와 크기를 비교, 필요하다면 자리를 바꿈.\n",
    "\n",
    "5. 리스트의 끝까지 이 과정을 반복.\n",
    "\n",
    "6. 리스트의 가장 큰 숫자가 맨 오른쪽에 위치.\n",
    "\n",
    "7. 리스트의 가장 큰 숫자를 제외한 나머지 숫자들을 2~6 과정을 반복한다.\n",
    "\n",
    "8. 남아 있는 숫자가 없을 떄까지 이 과정을 반복한다."
   ]
  },
  {
   "attachments": {},
   "cell_type": "markdown",
   "metadata": {},
   "source": [
    "For example, if you have a list of [5,3,8,1] that you want to bubble sort:\n",
    "\n",
    "On the first iteration, we reorder the 3 and 5 and 1 and 8, resulting in [3,5,1,8].\n",
    "in the second iteration, we leave the 3 and 5 unchaanged, and reorder the 5 and 1, resulting in [3,1,5,8].\n",
    "The third completes the placement because the number 1 is at the top of the list, and the result is [1,3,5,8].\n",
    "\n",
    "You can see that the entire list is sorted in ascending order.\n",
    "This is called \"bubble sorting\" because the way the numbers are swapped and sorted in these steps looks like they're floating in the air, like speech bubbles.\n",
    "\n",
    "예를 들어, [5, 3, 8, 1]이라는 리스트를 버블 정렬로 정리한다면:\n",
    "\n",
    "첫 번째 반복에서는 3과 5, 1과 8을 바꿔 순서를 변경하고, 결과는 [3, 5, 1, 8]이 됩니다. \\\n",
    "두 번째 반복에서는 3과 5를 바꾸지 않고 넘어가고, 5와 1을 바꿔 순서를 변경하고, 결과는 [3, 1, 5, 8]입니다. \\\n",
    "세 번째 반복에서는 숫자 1이 가장 자리에 위치하기 때문에 배치가 완료되고, 결과는 [1, 3, 5, 8]입니다.\n",
    "\n",
    "이렇게 전체 리스트가 오름차순으로 정렬되는 것을 확인할 수 있다. \\\n",
    "이렇게 단계별로 숫자들이 공중에 떠 있는 것처럼 서로 바꿔지고 정렬되는 모습이 마치 말풍선(bubble)처럼 보인다고 해서 '버블 정렬'이라고 한다!"
   ]
  },
  {
   "cell_type": "code",
   "execution_count": 1,
   "metadata": {},
   "outputs": [
    {
     "name": "stdout",
     "output_type": "stream",
     "text": [
      "정렬 전: [1, 3, 5, 8]\n",
      "정렬 후: [1, 3, 5, 8]\n"
     ]
    }
   ],
   "source": [
    "def bubble_sort(numbers):\n",
    "    for i in range(len(numbers)-1):\n",
    "        for j in range(len(numbers)-1-i):\n",
    "            if numbers[j] > numbers[j+1]:\n",
    "                numbers[j], numbers[j+1] = numbers[j+1], numbers[j]\n",
    "    return numbers\n",
    "\n",
    "example_list = [5, 3, 8, 1]\n",
    "sorted_list = bubble_sort(example_list)\n",
    "\n",
    "print(\"정렬 전:\", example_list)\n",
    "print(\"정렬 후:\", sorted_list)"
   ]
  },
  {
   "attachments": {},
   "cell_type": "markdown",
   "metadata": {},
   "source": [
    "The time complexity and space complexity of Bubble sort as follow.\n",
    "\n",
    "Time Complexity:\n",
    "\n",
    "Best case: O(n) - if the input list is alreday sorted, you only need to check each element once. \\\n",
    "Average case: O(n^2) - if the input list is sorted in reverse order, this will take the longest time.\\\n",
    "Worst case: O(n^2) - if the input list is sorted in reverse order, this will take the longest time.\\\n",
    "Space complexity: O(1) - Bubble sort requires very little additional memory allocation because it only swaps the positions of elements in the original for use on large datasets.\n",
    "\n",
    "The time complexity of bubble sort is O(n^2), which is slower than other sorting algorithms, so it is not really suitable for use on large dataset.\\\n",
    "However, it is a simple and intuitive algorithm to code, and can be used on small datasets.\n",
    "\n",
    "버블 정렬(Bubble Sort)의 시간 복잡도와 공간 복잡도는 다음과 같다\n",
    "\n",
    "시간 복잡도:\n",
    "\n",
    "최선의 경우: O(n) - 입력 리스트가 이미 정렬되어 있는 경우, 각 원소를 한 번씩만 확인하면 됩니다.\\\n",
    "평균적인 경우: O(n^2) - 모든 원소를 비교하고 위치를 바꾸어 정렬해야 하는 경우입니다.\\\n",
    "최악의 경우: O(n^2) - 입력 리스트가 역순으로 정렬되어 있는 경우, 가장 긴 시간이 소요됩니다.\\\n",
    "공간 복잡도: O(1) - 버블 정렬은 원래 배열의 원소들의 위치를 바꾸기 때문에 추가적인 메모리 할당이 거의 필요하지 않습니다. 따라서 공간 복잡도는 작은 상수값을 가지며, 근사적으로 O(1)로 간주할 수 있습니다.\n",
    "\n",
    "버블 정렬의 시간 복잡도가 O(n^2)로 다른 정렬 알고리즘에 비해 느리기 때문에, 실제로 큰 데이터셋에 사용하기에는 적합하지 않습니다. \\\n",
    "하지만 간단하고 직관적인 알고리즘으로 코드를 작성하기에는 적합하며, 작은 데이터셋에서는 사용할 수도 있습니다."
   ]
  }
 ],
 "metadata": {
  "kernelspec": {
   "display_name": "Python 3",
   "language": "python",
   "name": "python3"
  },
  "language_info": {
   "codemirror_mode": {
    "name": "ipython",
    "version": 3
   },
   "file_extension": ".py",
   "mimetype": "text/x-python",
   "name": "python",
   "nbconvert_exporter": "python",
   "pygments_lexer": "ipython3",
   "version": "3.7.9"
  },
  "orig_nbformat": 4
 },
 "nbformat": 4,
 "nbformat_minor": 2
}
