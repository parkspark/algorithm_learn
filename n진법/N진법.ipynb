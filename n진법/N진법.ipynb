{
 "cells": [
  {
   "attachments": {},
   "cell_type": "markdown",
   "metadata": {},
   "source": [
    "# N 진법 변환\n",
    "\n",
    "# N base conversion\n",
    "\n",
    "## 1. 10진수에서 n진수로 변환하기\n",
    "10진수를 n진수로 변환하려면, 다음의 과정을 따르면 됩니다.\n",
    "\n",
    "Step 1. 나머지 구하기\n",
    "10진수를 n으로 나눕니다. 이때, 나머지를 구합니다.\n",
    "\n",
    "Step 2. 몫과 나머지 기록하기\n",
    "이전 단계에서 구한 나머지를 기록합니다. 그리고, 몫이 0이 되었는지 확인합니다. 몫이 0이 아니면, 다시 Step 1을 반복합니다.\n",
    "\n",
    "Step 3. 나머지를 역순으로 배열하기\n",
    "Step 2에서 구한 나머지들을 역순으로 배열합니다."
   ]
  },
  {
   "cell_type": "code",
   "execution_count": 15,
   "metadata": {},
   "outputs": [
    {
     "name": "stdout",
     "output_type": "stream",
     "text": [
      "('1100', '2진법')\n",
      "('1000', '2진법')\n",
      "('12', '16진법')\n"
     ]
    }
   ],
   "source": [
    "\n",
    "def to_nbase(num, n):\n",
    "    s = \"\"\n",
    "    while num != 0:\n",
    "        s = str(num % n) + s\n",
    "        num //= n\n",
    "    return s,f'{n}진법'\n",
    "        \n",
    "print(to_nbase(12, 2))\n",
    "print(to_nbase(8,2))\n",
    "print(to_nbase(12,16)) #('12', '16진법') 라고 출력되는데 알아볼수가 없다."
   ]
  },
  {
   "cell_type": "code",
   "execution_count": 22,
   "metadata": {},
   "outputs": [
    {
     "name": "stdout",
     "output_type": "stream",
     "text": [
      "('1000', '2진법')\n",
      "('C', '16진법')\n",
      "('11', '16진법')\n",
      "('FFF', '16진법')\n",
      "('1001', '16진법')\n"
     ]
    }
   ],
   "source": [
    "#('12', '16진법') 라고 출력되는데 알아볼수가 없다. \n",
    "# 이를 해결하기 위해서\n",
    "\n",
    "def to_nbase(num,n): \n",
    "    chars = \"0123456789ABCDEFGHIJKLMNOPQRSTUVWXYZ\" # chars[10] = \"A\", chars[35] = \"Z\"\n",
    "    mod_dict = {i: chars[i] for i in range(len(chars))}\n",
    "    s = \"\"\n",
    "    while num != 0:\n",
    "        s = mod_dict[num%n] + s\n",
    "        num //= n\n",
    "    return s,f'{n}진법'\n",
    "\n",
    "print(to_nbase(8,2))\n",
    "print(to_nbase(12,16))\n",
    "print(to_nbase(17,16))\n",
    "print(to_nbase(16**3-1,16)) # FFF \n",
    "print(to_nbase(16**3+1,16))\n"
   ]
  },
  {
   "attachments": {},
   "cell_type": "markdown",
   "metadata": {},
   "source": [
    "## 파이썬은 2진법 8진법 16진법을 기본적으로 내장하고있다.\n",
    "bin() 2진법\\\n",
    "oct() 8진법\\\n",
    "hex() 16진법"
   ]
  },
  {
   "cell_type": "code",
   "execution_count": 28,
   "metadata": {},
   "outputs": [
    {
     "name": "stdout",
     "output_type": "stream",
     "text": [
      "to_nbase(12,16) -> ('1100', '2진법')\n",
      "bin(12) = 0b1100\n",
      "to_nbase(12,16) -> ('14', '8진법')\n",
      "oct(12) = 0o14\n",
      "to_nbase(12,16) -> ('C', '16진법')\n",
      "hex(12) = 0xc\n"
     ]
    }
   ],
   "source": [
    "print(\"to_nbase(12,16) -> {}\".format(to_nbase(12,2)))\n",
    "print(\"bin(12) = {}\".format(bin(12)))\n",
    "print(\"to_nbase(12,16) -> {}\".format(to_nbase(12,8)))\n",
    "print(\"oct(12) = {}\".format(oct(12)))\n",
    "print(\"to_nbase(12,16) -> {}\".format(to_nbase(12,16)))\n",
    "print(\"hex(12) = {}\".format(hex(12)))"
   ]
  },
  {
   "attachments": {},
   "cell_type": "markdown",
   "metadata": {},
   "source": [
    "bin(12) = 0b1100\n",
    "oct(12) = 0o14\n",
    "hex(12) = 0xc\n",
    "\n",
    "뒤에 0b, 0o, 0x 가 bin, oct, hex 의 약자이다. 떼고 생각하면 편합니다!"
   ]
  },
  {
   "attachments": {},
   "cell_type": "markdown",
   "metadata": {},
   "source": [
    "## 2. n진수에서 10진수로 변환하기\n",
    "n진수를 10진수로 변환하려면, 다음의 과정을 따르면 됩니다.\n",
    "\n",
    "Step 1. 자릿수 값 계산하기\n",
    "n진수의 자릿수 값으로 각 자리의 값을 구합니다. 이 때, 자릿수 값은 n의 거듭제곱입니다.\n",
    "\n",
    "Step 2. 각 자리의 값을 곱하기\n",
    "각 자리의 값을 자릿수 값과 곱한 뒤, 그 결과를 모두 더해 10진수를 계산합니다."
   ]
  },
  {
   "cell_type": "code",
   "execution_count": 32,
   "metadata": {},
   "outputs": [
    {
     "name": "stdout",
     "output_type": "stream",
     "text": [
      "[2, 24, 36]\n",
      "62\n"
     ]
    }
   ],
   "source": [
    "def nbase_to_dec(num, n):\n",
    "    chars = \"0123456789ABCDEFGHIJKLMNOPQRSTUVWXYZ\"\n",
    "    mod_dict = {chars[i]: i for i in range(len(chars))}\n",
    "    digits = []\n",
    "    for i, c in enumerate(num[::-1]):\n",
    "        digits.append(mod_dict[c] * n**i)\n",
    "    print(digits)\n",
    "    return sum(digits)\n",
    "\n",
    "print(nbase_to_dec(\"142\", 6))"
   ]
  },
  {
   "cell_type": "code",
   "execution_count": 34,
   "metadata": {},
   "outputs": [
    {
     "name": "stdout",
     "output_type": "stream",
     "text": [
      "62\n",
      "1442\n"
     ]
    },
    {
     "ename": "ValueError",
     "evalue": "int() base must be >= 2 and <= 36, or 0",
     "output_type": "error",
     "traceback": [
      "\u001b[1;31m---------------------------------------------------------------------------\u001b[0m",
      "\u001b[1;31mValueError\u001b[0m                                Traceback (most recent call last)",
      "\u001b[1;32m~\\AppData\\Local\\Temp\\ipykernel_31880\\3054806963.py\u001b[0m in \u001b[0;36m<module>\u001b[1;34m\u001b[0m\n\u001b[0;32m      3\u001b[0m \u001b[0mprint\u001b[0m\u001b[1;33m(\u001b[0m\u001b[0mint\u001b[0m\u001b[1;33m(\u001b[0m\u001b[1;34m\"142\"\u001b[0m\u001b[1;33m,\u001b[0m \u001b[1;36m6\u001b[0m\u001b[1;33m)\u001b[0m\u001b[1;33m)\u001b[0m \u001b[1;31m#62\u001b[0m\u001b[1;33m\u001b[0m\u001b[1;33m\u001b[0m\u001b[0m\n\u001b[0;32m      4\u001b[0m \u001b[0mprint\u001b[0m\u001b[1;33m(\u001b[0m\u001b[0mint\u001b[0m\u001b[1;33m(\u001b[0m\u001b[1;34m\"142\"\u001b[0m\u001b[1;33m,\u001b[0m \u001b[1;36m36\u001b[0m\u001b[1;33m)\u001b[0m\u001b[1;33m)\u001b[0m \u001b[1;31m#62\u001b[0m\u001b[1;33m\u001b[0m\u001b[1;33m\u001b[0m\u001b[0m\n\u001b[1;32m----> 5\u001b[1;33m \u001b[0mprint\u001b[0m\u001b[1;33m(\u001b[0m\u001b[0mint\u001b[0m\u001b[1;33m(\u001b[0m\u001b[1;34m\"142\"\u001b[0m\u001b[1;33m,\u001b[0m \u001b[1;36m37\u001b[0m\u001b[1;33m)\u001b[0m\u001b[1;33m)\u001b[0m \u001b[1;31m#62\u001b[0m\u001b[1;33m\u001b[0m\u001b[1;33m\u001b[0m\u001b[0m\n\u001b[0m",
      "\u001b[1;31mValueError\u001b[0m: int() base must be >= 2 and <= 36, or 0"
     ]
    }
   ],
   "source": [
    "# 위 코드는 알고리즘 공부에 의미를 두어야 함.\n",
    "\n",
    "print(int(\"142\", 6)) #62\n",
    "print(int(\"142\", 36)) #1442\n",
    "print(int(\"142\", 37)) #37 진법부터는 에러\n",
    "\n",
    "# 단순히 진법 변환은 잘 나오지 않고, 응용해서 문제가 잘 나온다."
   ]
  },
  {
   "attachments": {},
   "cell_type": "markdown",
   "metadata": {},
   "source": [
    "## 정리\n",
    "\n",
    "10진법 -> 2진법 : bin()\\\n",
    "10진법 -> 8진법 : oct()\\\n",
    "10진법 -> 16진법 : hex()\\\n",
    "n진법 -> 10진법 : int(\"~\", n)\n",
    "\n",
    "파이썬 내장함수로 제공된다. 활용하면 좋다!"
   ]
  }
 ],
 "metadata": {
  "kernelspec": {
   "display_name": "Python 3",
   "language": "python",
   "name": "python3"
  },
  "language_info": {
   "codemirror_mode": {
    "name": "ipython",
    "version": 3
   },
   "file_extension": ".py",
   "mimetype": "text/x-python",
   "name": "python",
   "nbconvert_exporter": "python",
   "pygments_lexer": "ipython3",
   "version": "3.7.9"
  },
  "orig_nbformat": 4
 },
 "nbformat": 4,
 "nbformat_minor": 2
}
