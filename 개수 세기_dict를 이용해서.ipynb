{
 "cells": [
  {
   "attachments": {},
   "cell_type": "markdown",
   "metadata": {},
   "source": [
    "list에서 조건에 따라 item 을 count하는 문제가 자주 나온다.\n",
    "실무에서도 자주 사용되는 문제이다."
   ]
  },
  {
   "attachments": {},
   "cell_type": "markdown",
   "metadata": {},
   "source": [
    "list 에서 중복된 것은 다뺴고 유니크 한 것들만 남기는 방법"
   ]
  },
  {
   "cell_type": "code",
   "execution_count": 1,
   "metadata": {},
   "outputs": [],
   "source": [
    "from glob import glob\n",
    "\n",
    "Items = []\n",
    "for file in glob(\"*.jpg\"):\n",
    "    name = file.split(\"_\")[0]\n",
    "    if name not in Items:\n",
    "        Items.append(name)\n",
    "    else:\n",
    "        continue\n",
    "    \n",
    "print(Items)"
   ]
  },
  {
   "cell_type": "code",
   "execution_count": 3,
   "metadata": {},
   "outputs": [
    {
     "name": "stdout",
     "output_type": "stream",
     "text": [
      "['apple', 'coumputer', 'dog', 'penguin']\n"
     ]
    }
   ],
   "source": [
    "list2 = ['apple_1', 'apple_2', 'apple_3', 'coumputer_1', 'coumputer_2', 'coumputer_3', 'coumputer_4', 'dog_1', 'dog_2', 'penguin_1', 'penguin_2', 'penguin_3']\n",
    "\n",
    "Items = []\n",
    "for file2 in list2:\n",
    "    name = file2.split(\"_\")[0]\n",
    "    if name not in Items:\n",
    "        Items.append(name)\n",
    "    else:\n",
    "        continue\n",
    "print(Items)"
   ]
  },
  {
   "attachments": {},
   "cell_type": "markdown",
   "metadata": {},
   "source": [
    "좀 더 쉽게 만드는 방법은 \n",
    "set 을 이용하는 방법이다."
   ]
  },
  {
   "cell_type": "code",
   "execution_count": 1,
   "metadata": {},
   "outputs": [
    {
     "name": "stdout",
     "output_type": "stream",
     "text": [
      "{1, 2, 3}\n",
      "[1, 2, 3]\n"
     ]
    }
   ],
   "source": [
    "array = [1, 2, 3, 3, 3]\n",
    "set_array = set(array)\n",
    "print(set_array) # {1, 2, 3}\n",
    "print(list(set_array)) # [1, 2, 3]"
   ]
  },
  {
   "attachments": {},
   "cell_type": "markdown",
   "metadata": {},
   "source": [
    "set(집합)\n",
    "순서가 없고, 집합안에서는 unique 한 값을 가진다.\n",
    "list 로 바꿨을 때 [2,3,1] 로도 바뀔 수도 있다는 것이다."
   ]
  },
  {
   "cell_type": "code",
   "execution_count": 4,
   "metadata": {},
   "outputs": [
    {
     "name": "stdout",
     "output_type": "stream",
     "text": [
      "['apple', 'dog', 'penguin', 'coumputer']\n"
     ]
    }
   ],
   "source": [
    "Items = []\n",
    "for file2 in list2:\n",
    "    name = file2.split(\"_\")[0]\n",
    "    Items.append(name)\n",
    "    \n",
    "Items = list(set(Items))\n",
    "\n",
    "print(Items)"
   ]
  },
  {
   "cell_type": "code",
   "execution_count": 5,
   "metadata": {},
   "outputs": [
    {
     "name": "stdout",
     "output_type": "stream",
     "text": [
      "['apple', 'dog', 'penguin', 'coumputer']\n"
     ]
    }
   ],
   "source": [
    "Itmes = {file2.split(\"_\")[0] for file2 in list2}\n",
    "print(Items)"
   ]
  },
  {
   "attachments": {},
   "cell_type": "markdown",
   "metadata": {},
   "source": [
    "이제 Unique 한 값은 알았는데 몇개씩 있는지도 알아보자."
   ]
  },
  {
   "cell_type": "code",
   "execution_count": 6,
   "metadata": {},
   "outputs": [
    {
     "ename": "KeyError",
     "evalue": "'apple'",
     "output_type": "error",
     "traceback": [
      "\u001b[1;31m---------------------------------------------------------------------------\u001b[0m",
      "\u001b[1;31mKeyError\u001b[0m                                  Traceback (most recent call last)",
      "\u001b[1;32m~\\AppData\\Local\\Temp\\ipykernel_32612\\1615125502.py\u001b[0m in \u001b[0;36m<module>\u001b[1;34m\u001b[0m\n\u001b[0;32m      2\u001b[0m \u001b[1;32mfor\u001b[0m \u001b[0mname\u001b[0m \u001b[1;32min\u001b[0m \u001b[0mlist2\u001b[0m\u001b[1;33m:\u001b[0m\u001b[1;33m\u001b[0m\u001b[1;33m\u001b[0m\u001b[0m\n\u001b[0;32m      3\u001b[0m     \u001b[0mname\u001b[0m \u001b[1;33m=\u001b[0m \u001b[0mname\u001b[0m\u001b[1;33m.\u001b[0m\u001b[0msplit\u001b[0m\u001b[1;33m(\u001b[0m\u001b[1;34m\"_\"\u001b[0m\u001b[1;33m)\u001b[0m\u001b[1;33m[\u001b[0m\u001b[1;36m0\u001b[0m\u001b[1;33m]\u001b[0m\u001b[1;33m\u001b[0m\u001b[1;33m\u001b[0m\u001b[0m\n\u001b[1;32m----> 4\u001b[1;33m     \u001b[0mnum_names\u001b[0m\u001b[1;33m[\u001b[0m\u001b[0mname\u001b[0m\u001b[1;33m]\u001b[0m \u001b[1;33m+=\u001b[0m \u001b[1;36m1\u001b[0m\u001b[1;33m\u001b[0m\u001b[1;33m\u001b[0m\u001b[0m\n\u001b[0m\u001b[0;32m      5\u001b[0m \u001b[1;33m\u001b[0m\u001b[0m\n\u001b[0;32m      6\u001b[0m \u001b[0mprint\u001b[0m\u001b[1;33m(\u001b[0m\u001b[0mnum_names\u001b[0m\u001b[1;33m)\u001b[0m\u001b[1;33m\u001b[0m\u001b[1;33m\u001b[0m\u001b[0m\n",
      "\u001b[1;31mKeyError\u001b[0m: 'apple'"
     ]
    }
   ],
   "source": [
    "num_names = {}\n",
    "for name in list2:\n",
    "    name = name.split(\"_\")[0]\n",
    "    num_names[name] += 1\n",
    "\n",
    "print(num_names)"
   ]
  },
  {
   "attachments": {},
   "cell_type": "markdown",
   "metadata": {},
   "source": [
    "위 코드는 에러가 나는데\n",
    "이미 num_names 에 key 가 있으면 +1 이 되서 상관 없는데\n",
    "아예 없으면 키에 접근할 방법이 없어서 발생한다.\n",
    "이를 해결하기 위해서는"
   ]
  },
  {
   "cell_type": "code",
   "execution_count": 7,
   "metadata": {},
   "outputs": [
    {
     "name": "stdout",
     "output_type": "stream",
     "text": [
      "{'apple': 2, 'coumputer': 3, 'dog': 1, 'penguin': 2}\n"
     ]
    }
   ],
   "source": [
    "num_names = {}\n",
    "for name in list2:\n",
    "    name = name.split(\"_\")[0]\n",
    "    if name not in num_names:\n",
    "        num_names[name] = 0\n",
    "    else:\n",
    "        num_names[name] += 1\n",
    "\n",
    "print(num_names)"
   ]
  },
  {
   "attachments": {},
   "cell_type": "markdown",
   "metadata": {},
   "source": [
    "if name not in num_names:\n",
    "        num_names[name] = 0\n",
    "으로 없을때는 =0 으로 생성해주는 것이다."
   ]
  },
  {
   "attachments": {},
   "cell_type": "markdown",
   "metadata": {},
   "source": [
    "defaultdict 자료형을 사용하면\n",
    "좀더 줄일 수 있다."
   ]
  },
  {
   "cell_type": "code",
   "execution_count": 8,
   "metadata": {},
   "outputs": [
    {
     "name": "stdout",
     "output_type": "stream",
     "text": [
      "{'apple': 3, 'coumputer': 4, 'dog': 2, 'penguin': 3}\n"
     ]
    }
   ],
   "source": [
    "from collections import defaultdict\n",
    "num_names = defaultdict(lambda: 0)\n",
    "\n",
    "for name in list2:\n",
    "    name = name.split(\"_\")[0]\n",
    "    num_names[name] += 1\n",
    "\n",
    "print(dict(num_names))"
   ]
  },
  {
   "attachments": {},
   "cell_type": "markdown",
   "metadata": {},
   "source": [
    "defaultdict는 \n",
    "key eroor 가 날 상황이면 자동으로 람다:a 로 설정해주는 역활을 한다."
   ]
  }
 ],
 "metadata": {
  "kernelspec": {
   "display_name": "Python 3",
   "language": "python",
   "name": "python3"
  },
  "language_info": {
   "codemirror_mode": {
    "name": "ipython",
    "version": 3
   },
   "file_extension": ".py",
   "mimetype": "text/x-python",
   "name": "python",
   "nbconvert_exporter": "python",
   "pygments_lexer": "ipython3",
   "version": "3.7.9"
  },
  "orig_nbformat": 4
 },
 "nbformat": 4,
 "nbformat_minor": 2
}
