{
 "cells": [
  {
   "attachments": {},
   "cell_type": "markdown",
   "metadata": {},
   "source": [
    "[퀴즈1] 머신러닝\n",
    "Q.\n",
    "다음 중 머신러닝에 대한 설명으로 옳은 것을 모두 고르세요. (정답 : 3개)\n",
    "\n",
    "퀴즈 해설 보기\n",
    "머신러닝이 등장함에 따라 기존 통계학과 시각화 방법에 대한 한계를 일부 해결할 수 있었습니다.\n",
    "\n",
    "\n",
    "정답\n",
    "\n",
    "머신러닝은 빅데이터를 분석할 수 있는 강력한 툴이라고 할 수 있다. o\n",
    "\n",
    "머신러닝은 명시적으로 프로그래밍을 하지 않고도 컴퓨터가 학습할 수 있는 능력을 갖게 하는 것이다. o\n",
    "\n",
    "머신러닝은 기존 통계학 및 시각화 방법의 한계를 해결할 수 없어 이에 대한 비판적 시선이 있다.  x\n",
    "\n",
    "머신러닝의 기법은 크게 \"지도학습\", \"비지도학습\", \"강화학습\" 으로 나누어질 수 있다.   o"
   ]
  },
  {
   "attachments": {},
   "cell_type": "markdown",
   "metadata": {},
   "source": [
    "[퀴즈2] 지도학습\n",
    "Q.\n",
    "다음 중 지도학습에 포함되는 기법을 모두 고르세요. (정답 : 2개)\n",
    "퀴즈 해설 보기\n",
    "회귀와 분류는 지도학습의 기법으로, 예측해야 할 결과에 대한 정답 데이터가 있을 경우 적용됩니다. 클러스터링과 차원축소는 비지도 학습에 속하는 기법으로, 정답 데이터가 없을 경우 적용됩니다.\n",
    "\n",
    "\n",
    "분류 o\n",
    "\n",
    "클러스터링 x\n",
    "\n",
    "회귀 o\n",
    "\n",
    "차원축소 x"
   ]
  },
  {
   "cell_type": "code",
   "execution_count": 1,
   "metadata": {},
   "outputs": [
    {
     "name": "stdout",
     "output_type": "stream",
     "text": [
      "Mean : 144.12\n"
     ]
    }
   ],
   "source": [
    "# 수치형 자료의 요약 - 평균\n",
    "\n",
    "import numpy as np\n",
    "\n",
    "\n",
    "coffee = np.array([202,177,121,148,89,121,137,158])\n",
    "\n",
    "\"\"\"\n",
    "1. 평균계산\n",
    "\"\"\"\n",
    "cf_mean = coffee.mean() # 또는 np.mean(coffee)\n",
    "\n",
    "# 소수점 둘째 자리까지 반올림하여 출력합니다. \n",
    "print(\"Mean :\", round(cf_mean,2))"
   ]
  },
  {
   "cell_type": "code",
   "execution_count": 2,
   "metadata": {},
   "outputs": [
    {
     "name": "stdout",
     "output_type": "stream",
     "text": [
      "Sample std.Dev :  35.44\n"
     ]
    }
   ],
   "source": [
    "# 수치형 자료의 요약 - 표준편차\n",
    "\n",
    "from statistics import stdev\n",
    "import numpy as np\n",
    "\n",
    "coffee = np.array([202,177,121,148,89,121,137,158])\n",
    "\n",
    "\"\"\"\n",
    "1. 표준편차 계산\n",
    "\"\"\"\n",
    "cf_std = stdev(coffee)\n",
    "\n",
    "# 소수점 둘째 자리까지 반올림하여 출력합니다. \n",
    "print(\"Sample std.Dev : \", round(cf_std,2))"
   ]
  },
  {
   "cell_type": "code",
   "execution_count": 3,
   "metadata": {},
   "outputs": [
    {
     "data": {
      "image/png": "[encoded data removed]",
      "text/plain": [
       "<Figure size 640x480 with 1 Axes>"
      ]
     },
     "metadata": {},
     "output_type": "display_data"
    }
   ],
   "source": [
    " # 수치형 자료의 요약 - 히스토그램\n",
    "import numpy as np\n",
    "import matplotlib.pyplot as plt\n",
    "\n",
    "# 데이터\n",
    "coffee = np.array([202,177,121,148,89,121,137,158])\n",
    "\n",
    "fig, ax = plt.subplots()\n",
    "\n",
    "plt.hist(coffee)\n",
    "\n",
    "# 히스토그램을 출력합니다.\n",
    "plt.show()\n",
    "fig.savefig(\"hist_plot.png\")\n",
    "\n",
    "\n",
    "'''\n",
    "plt.hist(coffee, bins=3)\n",
    "\n",
    "bins은 히스토그램을 구성하는 계급의 개수를 의미합니다. 다양한 값을 넣어서 출력되는 결과를 확인해보세요.\n",
    "\n",
    "'''\n"
   ]
  },
  {
   "attachments": {},
   "cell_type": "markdown",
   "metadata": {},
   "source": [
    "\n"
   ]
  }
 ],
 "metadata": {
  "kernelspec": {
   "display_name": "Python 3.7.9 64-bit",
   "language": "python",
   "name": "python3"
  },
  "language_info": {
   "codemirror_mode": {
    "name": "ipython",
    "version": 3
   },
   "file_extension": ".py",
   "mimetype": "text/x-python",
   "name": "python",
   "nbconvert_exporter": "python",
   "pygments_lexer": "ipython3",
   "version": "3.7.9"
  },
  "orig_nbformat": 4,
  "vscode": {
   "interpreter": {
    "hash": "09e1e4e445b88cb24d06a2a5c3b08335dd2c1d12576e9810491064f2d12c853e"
   }
  }
 },
 "nbformat": 4,
 "nbformat_minor": 2
}
