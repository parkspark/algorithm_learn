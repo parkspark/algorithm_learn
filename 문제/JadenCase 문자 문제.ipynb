{
 "cells": [
  {
   "attachments": {},
   "cell_type": "markdown",
   "metadata": {},
   "source": [
    "JadenCase란 모든 단어의 첫 문자가 대문자이고, 그 외의 알파벳은 소문자인 문자열입니다. \\\n",
    "단, 첫 문자가 알파벳이 아닐 때에는 이어지는 알파벳은 소문자로 쓰면 됩니다. (첫 번째 입출력 예 참고)\\\n",
    "문자열 s가 주어졌을 때, s를 JadenCase로 바꾼 문자열을 리턴하는 함수, solution을 완성해주세요.\n",
    "\n",
    "제한 조건\n",
    "s는 길이 1 이상 200 이하인 문자열입니다.\\\n",
    "s는 알파벳과 숫자, 공백문자(\" \")로 이루어져 있습니다.\\\n",
    "숫자는 단어의 첫 문자로만 나옵니다.\\\n",
    "숫자로만 이루어진 단어는 없습니다.\\\n",
    "공백문자가 연속해서 나올 수 있습니다.\n",
    "\n",
    "   입출력 예   \n",
    "   s\treturn   \n",
    "\n",
    "   \"3people unFollowed me\"\t\"3people Unfollowed Me\"   \n",
    "   \"for the last week\"\t\"For The Last Week\"   "
   ]
  },
  {
   "cell_type": "code",
   "execution_count": null,
   "metadata": {},
   "outputs": [],
   "source": [
    "# 첫시도\n",
    "def check_alphabets(strng):\n",
    "    a = 0\n",
    "    for c in strng :\n",
    "        if c.isalpha():\n",
    "            a = a + 1\n",
    "            return a\n",
    "        a = a + 1\n",
    "        \n",
    "def capitalized_with_num(strng):\n",
    "    a = check_alphabets(strng)\n",
    "    return strng[:a].upper() + strng[a:]\n",
    "\n",
    "\n",
    "def solution(s):\n",
    "    s_list = s.lower().split()\n",
    "    cap_s = []\n",
    "    \n",
    "    for i in s_list :\n",
    "        cap_s.append(capitalized_with_num(i))\n",
    "        \n",
    "    answer = \" \".join(cap_s)\n",
    "\n",
    "    return answer\n"
   ]
  },
  {
   "attachments": {},
   "cell_type": "markdown",
   "metadata": {},
   "source": [
    "채점 결과\n",
    "정확성: 19.4\n",
    "효율성: 0.0\n",
    "합계: 19.4 / 50"
   ]
  },
  {
   "cell_type": "code",
   "execution_count": null,
   "metadata": {},
   "outputs": [],
   "source": [
    "def check_alphabets(strng):\n",
    "    a = 0\n",
    "    for c in strng :\n",
    "        if c.isalpha():\n",
    "            a = a + 1\n",
    "            return a\n",
    "        a = a + 1\n",
    "        \n",
    "def capitalized_with_num(strng):\n",
    "    a = check_alphabets(strng)\n",
    "    return strng[:a].upper() + strng[a:]\n",
    "\n",
    "\n",
    "def solution(s):\n",
    "    s_list = s.lower().split(\" \") #\" \" 추가해줌\n",
    "    cap_s = []\n",
    "    \n",
    "    for i in s_list :\n",
    "        cap_s.append(capitalized_with_num(i))\n",
    "        \n",
    "    answer = \" \".join(cap_s)\n",
    "\n",
    "    return answer\n"
   ]
  },
  {
   "attachments": {},
   "cell_type": "markdown",
   "metadata": {},
   "source": [
    "채점 결과\n",
    "정확성: 44.4\n",
    "효율성: 0.0\n",
    "합계: 44.4 / 50"
   ]
  },
  {
   "cell_type": "code",
   "execution_count": null,
   "metadata": {},
   "outputs": [],
   "source": [
    "def solution(s):\n",
    "    title_s = s.title()\n",
    "    words = title_s.split(\" \")\n",
    "    for i in range(len(words)):\n",
    "        if len(words[i]) != 0 and words[i][0].isdigit():\n",
    "            words[i] = words[i].lower()\n",
    "\n",
    "    return \" \".join(words)"
   ]
  },
  {
   "attachments": {},
   "cell_type": "markdown",
   "metadata": {},
   "source": [
    "통과"
   ]
  }
 ],
 "metadata": {
  "language_info": {
   "name": "python"
  },
  "orig_nbformat": 4
 },
 "nbformat": 4,
 "nbformat_minor": 2
}
