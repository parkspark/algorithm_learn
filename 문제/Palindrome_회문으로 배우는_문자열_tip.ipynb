{
 "cells": [
  {
   "attachments": {},
   "cell_type": "markdown",
   "metadata": {},
   "source": [
    "파이썬에서는 문자열을 잘 다룰수 있또록 여러 내장함수를 제공한다.\n",
    "\n",
    "Palindrome(회문) : 알파벳 순서를 뒤집어도 같은 문자열이 되는 문자열"
   ]
  },
  {
   "attachments": {},
   "cell_type": "markdown",
   "metadata": {},
   "source": [
    "띄어쓰기나 문장 부호는 무시. (대문자, 소문자 구별 x)\n",
    "뒤집어서 같은 문자를 palindrome 인지 True False로 return 하는 함수 만들기 "
   ]
  },
  {
   "cell_type": "code",
   "execution_count": 1,
   "metadata": {},
   "outputs": [],
   "source": [
    "def solution(string):\n",
    "    reverse_str = string[::-1]\n",
    "    answer = string == reverse_str\n",
    "    return answer"
   ]
  },
  {
   "cell_type": "code",
   "execution_count": 2,
   "metadata": {},
   "outputs": [
    {
     "name": "stdout",
     "output_type": "stream",
     "text": [
      "answer1 = True\n"
     ]
    }
   ],
   "source": [
    "answer1 = solution(\"madamimadam\") # True\n",
    "print(f\"answer1 = {answer1}\")"
   ]
  },
  {
   "cell_type": "code",
   "execution_count": 3,
   "metadata": {},
   "outputs": [
    {
     "name": "stdout",
     "output_type": "stream",
     "text": [
      "answer2 = False\n"
     ]
    }
   ],
   "source": [
    "answer2 = solution(\"Madam, I'm Adam\") # True\n",
    "print(f\"answer2 = {answer2}\")"
   ]
  },
  {
   "attachments": {},
   "cell_type": "markdown",
   "metadata": {},
   "source": [
    "그냥 뒤집어서 확인하는 방법\n",
    "두번쨰의 경우도 true 여야 하는데 false 값이 나온다.\n",
    "\n",
    "1.일단 띄어쓰기도 없애고,\n",
    "2.소문자, 대문자 통일,\n",
    "3.특수문자 없애기\n",
    "\n",
    "라는 정제화 과정을 거처야 한다."
   ]
  },
  {
   "cell_type": "code",
   "execution_count": 4,
   "metadata": {},
   "outputs": [
    {
     "name": "stdout",
     "output_type": "stream",
     "text": [
      "Madam,I'mAdam\n"
     ]
    }
   ],
   "source": [
    "string = \"Madam, I'm Adam\"\n",
    "result = string.replace(' ', '')\n",
    "print(result)"
   ]
  },
  {
   "attachments": {},
   "cell_type": "markdown",
   "metadata": {},
   "source": [
    "replace(a, b) 첫 인수를, 두번쨰 인수로 바꾸는 함수"
   ]
  },
  {
   "cell_type": "code",
   "execution_count": 5,
   "metadata": {},
   "outputs": [
    {
     "name": "stdout",
     "output_type": "stream",
     "text": [
      "MADAM, I'M ADAM\n",
      "madam, i'm adam\n"
     ]
    }
   ],
   "source": [
    "string = \"Madam, I'm Adam\"\n",
    "result1 = string.upper()\n",
    "result2 = string.lower()\n",
    "print(result1)\n",
    "print(result2)"
   ]
  },
  {
   "attachments": {},
   "cell_type": "markdown",
   "metadata": {},
   "source": [
    "upper() 대문자로 \\\n",
    "lower() 소문자로"
   ]
  },
  {
   "cell_type": "code",
   "execution_count": 6,
   "metadata": {},
   "outputs": [
    {
     "name": "stdout",
     "output_type": "stream",
     "text": [
      "['m', 'a', 'd', 'a', 'm', 'i', 'm', 'a', 'd', 'a', 'm']\n"
     ]
    }
   ],
   "source": [
    "string = \"Madam, I'm Adam\"\n",
    "result = string.lower()\n",
    "alphabets = \"abcdefghijklmnopqrstuvwxyz\"\n",
    "array = []\n",
    "for c in result:\n",
    "    if c in alphabets:\n",
    "        array.append(c)\n",
    "print(array)"
   ]
  },
  {
   "cell_type": "code",
   "execution_count": 7,
   "metadata": {},
   "outputs": [
    {
     "name": "stdout",
     "output_type": "stream",
     "text": [
      "['m', 'a', 'd', 'a', 'm', 'i', 'm', 'a', 'd', 'a', 'm']\n"
     ]
    }
   ],
   "source": [
    "array = [c for c in result if c in alphabets]\n",
    "print(array)"
   ]
  },
  {
   "cell_type": "code",
   "execution_count": 8,
   "metadata": {},
   "outputs": [
    {
     "name": "stdout",
     "output_type": "stream",
     "text": [
      "madamimadam\n"
     ]
    }
   ],
   "source": [
    "result = ''.join(array)\n",
    "print(result)"
   ]
  },
  {
   "attachments": {},
   "cell_type": "markdown",
   "metadata": {},
   "source": [
    "join() : 문자열의 조인 함수는 list 아이템 사이사이에다가 집어넣어서 합쳐진 문자열을 만드는 함수이다."
   ]
  },
  {
   "cell_type": "code",
   "execution_count": 14,
   "metadata": {},
   "outputs": [
    {
     "data": {
      "text/plain": [
       "'C:/Program Files/Microsoft Office/직박구리/한석원6모평해설.mp4'"
      ]
     },
     "execution_count": 14,
     "metadata": {},
     "output_type": "execute_result"
    }
   ],
   "source": [
    "\"/\".join([\"C:\", \"Program Files\", \"Microsoft Office\", \"직박구리\", \"한석원6모평해설.mp4\"])"
   ]
  },
  {
   "cell_type": "code",
   "execution_count": 12,
   "metadata": {},
   "outputs": [],
   "source": [
    "def solution(string):\n",
    "    print(f\"string before : {string}\")\n",
    "    string = string.replace(' ', '') # 띄어쓰기 제거\n",
    "    string = string.lower() # 소문자로 통일\n",
    "    alphabets = \"abcdefghijklmnopqrstuvwxyz\"\n",
    "    array = [c for c in result if c in alphabets] # 알파벳 이외의 문자 제거\n",
    "    string = ''.join(array)\n",
    "    print(f\"string after : {string}\")\n",
    "    reverse_str = string[::-1] # 뒤집기\n",
    "    answer = string == reverse_str # string 과 reverse_string 이 같은지 확인\n",
    "    return answer"
   ]
  },
  {
   "cell_type": "code",
   "execution_count": 13,
   "metadata": {},
   "outputs": [
    {
     "name": "stdout",
     "output_type": "stream",
     "text": [
      "string before : Madam, I'm Adam\n",
      "string after : madamimadam\n",
      "answer = True\n"
     ]
    }
   ],
   "source": [
    "answer = solution(\"Madam, I'm Adam\") #True\n",
    "print(f\"answer = {answer}\")"
   ]
  },
  {
   "attachments": {},
   "cell_type": "markdown",
   "metadata": {},
   "source": [
    "# 정리\n",
    "string.replace(A, B) : string안의 A문자열을 B문자열로 변환\n",
    "string.lower(), upper() : 소문자, 대문자로 변환\n",
    "string.join([str1, str2, ...]) : string을 str1, str2, ... 사이에 끼워넣은 문자열을 만듬\n",
    "string[::-1] : 문자열을 역순으로 재배열"
   ]
  },
  {
   "cell_type": "code",
   "execution_count": null,
   "metadata": {},
   "outputs": [],
   "source": []
  }
 ],
 "metadata": {
  "kernelspec": {
   "display_name": "Python 3",
   "language": "python",
   "name": "python3"
  },
  "language_info": {
   "codemirror_mode": {
    "name": "ipython",
    "version": 3
   },
   "file_extension": ".py",
   "mimetype": "text/x-python",
   "name": "python",
   "nbconvert_exporter": "python",
   "pygments_lexer": "ipython3",
   "version": "3.7.9"
  },
  "orig_nbformat": 4
 },
 "nbformat": 4,
 "nbformat_minor": 2
}
