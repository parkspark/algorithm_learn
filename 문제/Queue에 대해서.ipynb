{
 "cells": [
  {
   "attachments": {},
   "cell_type": "markdown",
   "metadata": {},
   "source": [
    "# 자료구조의 큰 2줄기\n",
    "\n",
    "## Stack\n",
    "Last in Fisrt out\n",
    "\n",
    "## Queue\n",
    "First in First out\n",
    "\n",
    "가장 기초적인 자료구조이다.\n",
    "\n",
    "어떻게 구현하고, 어떤 문제를 풀수 있는가?\n"
   ]
  },
  {
   "cell_type": "code",
   "execution_count": 5,
   "metadata": {},
   "outputs": [
    {
     "name": "stdout",
     "output_type": "stream",
     "text": [
      "['kim', 'park', 'choi', 'lhm']\n",
      "['kim', 'park', 'choi', 'lhm', 'jeong']\n",
      "['park', 'choi', 'lhm', 'jeong']\n",
      "park\n",
      "jeong\n"
     ]
    }
   ],
   "source": [
    "queue = ['kim', 'park', 'choi', 'lhm']\n",
    "print(queue)\n",
    "\n",
    "# 1. queue 오른쪽에 'jeong' 추가\n",
    "queue.append('jeong')\n",
    "print(queue)\n",
    "# 2. queue 맨 왼쪽에 'kim' 없애기\n",
    "queue.pop(0)\n",
    "print(queue)\n",
    "# 3. queue 맨 오른쪽(\"ihm\"), 맨 왼쪽('kim') 아이템 확인하기\n",
    "print(queue[0])\n",
    "print(queue[-1])\n"
   ]
  },
  {
   "attachments": {},
   "cell_type": "markdown",
   "metadata": {},
   "source": [
    "1. 변수가 긴 파이프를 통과한다는 느낌일떄 사용한다.\n",
    "\n",
    "2. 모인 변수가 특정 조건마다 한 번에 쏟아져 나올 때\n",
    "\n",
    "3. 좌표(탐색) ex.미로찾기/ 블록"
   ]
  },
  {
   "attachments": {},
   "cell_type": "markdown",
   "metadata": {},
   "source": [
    "2번 의 예시로\n",
    "사우나에 사람들이 있는데 각자 다른 인내심(p)를 가지고 있다.\n",
    "1분마다 모두 인내심이 -10 씩 되고 음수가 되면 밖으로 나간다.(pop)\n",
    "하지만 출구에 가장 가까운 사람이 나가지 않으면 그대로 버틴다.(맨 왼쪽이 음수가 되어야 나감)\n",
    "나갈 때 문이 살짝 열리면서 공기가 들어와 남은 사람들의 인내심이 +20 된다.\n",
    "이떄 모든 사람이 나갈때 걸리는 시간은?\n",
    "(1분 단위로 계산하며 공기가 들어와서 인내심이 +20 되는경우는 나갈 사람들중 마지막 사람이 나간뒤에 계산한다.)"
   ]
  },
  {
   "cell_type": "code",
   "execution_count": null,
   "metadata": {},
   "outputs": [],
   "source": [
    "p = [25, 5, 20, 45, 15, 55]\n",
    "\n",
    "p_1min = [15, -5, 10, 35, 5, 45]\n",
    "\n",
    "p_3min = [-5, -25, -10, 15, -15, 25]\n",
    "\n"
   ]
  },
  {
   "cell_type": "code",
   "execution_count": 7,
   "metadata": {},
   "outputs": [
    {
     "name": "stdout",
     "output_type": "stream",
     "text": [
      "7\n"
     ]
    }
   ],
   "source": [
    "def solution(p):\n",
    "    answer = 0\n",
    "    while p != []: ## (전부 탈출하기 전까지 계속)\n",
    "        p0 = p[0]\n",
    "        minute = p0 // 10 +1 # ex. 15면 2분 걸림\n",
    "        \n",
    "        for i in range(len(p)):\n",
    "            p[i] -= 10*minute # 2분 경과시 인내심 20감소 0번쨰 item 은 무조건 음수가 됨\n",
    "            \n",
    "        while p != [] and p[0] < 0:\n",
    "            p.pop(0) # 문 앞 인내심이 음수인 item 제거\n",
    "        \n",
    "        if p != []: p[0] += 20 # 문 앞 인내심 20증가\n",
    "        \n",
    "        answer += minute #경과한 시간\n",
    "    return answer\n",
    "\n",
    "p1 = [25, 5, 20, 45, 15, 55]\n",
    "print(solution(p1))"
   ]
  },
  {
   "attachments": {},
   "cell_type": "markdown",
   "metadata": {},
   "source": [
    "파이썬에서 queue 를 다룰때 (item 을 추가하거나 제거할때)\n",
    "\n",
    "리스트의 슬라이싱([1:]) 이나 =,+ 연산으로 구현하는 것을 지양해야한다.\n",
    "\n",
    "이유는 리스트의 슬라이싱이나 +,= 연산은 메모리상에서 새로운 리스트를 만들기 때문이다.\n",
    "\n",
    "이 행위는 pop 이나 append 보다 시간이 더욱 걸린다."
   ]
  },
  {
   "cell_type": "code",
   "execution_count": 8,
   "metadata": {},
   "outputs": [
    {
     "name": "stdout",
     "output_type": "stream",
     "text": [
      "append :   0.7610\n",
      "=[itme]+ :   2.0273\n"
     ]
    }
   ],
   "source": [
    "from time import time\n",
    "queue1 = []\n",
    "time1 = time()\n",
    "for i in range(30000):\n",
    "    queue1.append(10)\n",
    "    queue1.append(20)\n",
    "    queue1.pop(0)\n",
    "print(\"append :   {:.4f}\".format(time()-time1))\n",
    "\n",
    "# 공 100개가 든 상자에서 1개만 넣고, 빼는 것\n",
    "\n",
    "queue2 = []\n",
    "time2 = time()\n",
    "for i in range(30000):\n",
    "    queue2 = [10] + queue2\n",
    "    queue2 = [20] + queue2\n",
    "    queue2 = queue2[:-1]\n",
    "print(\"=[itme]+ :   {:.4f}\".format(time()-time2))\n",
    "\n",
    "# add item : 아이템을 새 상자에 넣고, 원래 공 100개가 든 상자의 100개를 새 상자에 담는 것\n",
    "# delete item : 공 100개가 든 상자에서 99개를 새 상자에 담는 것"
   ]
  },
  {
   "attachments": {},
   "cell_type": "markdown",
   "metadata": {},
   "source": [
    "연산과 슬라이싱을 사용하지않고 pop과 append 만으로 queue 문제를 해결할 수 있어야 한다."
   ]
  },
  {
   "attachments": {},
   "cell_type": "markdown",
   "metadata": {},
   "source": [
    "3. 좌표(탐색) ex.미로찾기/ 블록\n",
    "게임 좌표 관련된 문제는 queue 나 stack 으로 푸는 것을 추천한다.\n",
    "\n",
    "6*6게임판이 주어진다.\n",
    "0,1이 존재하는데 0인 부분을 색을 칠해야 한다.\n",
    "상하좌우 중에 하나라도 서로 붙어있는 부분은 같은 색을 ㅗ칠한다.\n",
    "그리고 붙어있지 않은 영역은 새로운 색깔로 칠해야 한다.\n",
    "총 몇개의 색깔이 필요한지 return 하는 함수를 만드세요.\n",
    "\n",
    "panel = [\n",
    "    [0,0,0,1,0,0],\n",
    "    [0,1,1,1,0,0],\n",
    "    [1,1,0,1,1,1],\n",
    "    [0,1,0,0,1,1],\n",
    "    [0,1,0,1,0,0],\n",
    "    [0,0,1,0,0,1],\n",
    "]\n"
   ]
  },
  {
   "cell_type": "code",
   "execution_count": 11,
   "metadata": {},
   "outputs": [],
   "source": [
    "panel = [\n",
    "    [0,0,0,1,0,0],\n",
    "    [0,1,1,1,0,0],\n",
    "    [1,1,0,1,1,1],\n",
    "    [0,1,0,0,1,1],\n",
    "    [0,1,0,1,0,0],\n",
    "    [0,0,1,0,0,1],\n",
    "]"
   ]
  },
  {
   "cell_type": "code",
   "execution_count": 12,
   "metadata": {},
   "outputs": [
    {
     "data": {
      "text/plain": [
       "20"
      ]
     },
     "execution_count": 12,
     "metadata": {},
     "output_type": "execute_result"
    }
   ],
   "source": [
    "def solution(p):\n",
    "    answer = 0\n",
    "    for i in range(len(p)):\n",
    "        for j in range(len(p[i])):\n",
    "            if p[i][j] == 0: answer += 1 #1 아이템이 0일 때마다 answer에 1씩 더하면\n",
    "    return answer\n",
    "solution(panel) "
   ]
  },
  {
   "attachments": {},
   "cell_type": "markdown",
   "metadata": {},
   "source": [
    "이렇게 풀면 그냥 0인 부분의 개수가 retunr 된다.\n",
    "\n",
    "우리가 원하는 것은, 0인 부분을 한번 봤을 때, 인접해있는 0들을 다른 숫자로 바꿔 줄 필요가 있다.\n",
    "\n",
    "<i,j> == <0, 0>\n",
    "-> <0,1>, <0,2>, <1,0> 을 다른 숫자로 바꿔주면 된다."
   ]
  },
  {
   "cell_type": "code",
   "execution_count": 17,
   "metadata": {},
   "outputs": [],
   "source": [
    "def solution(p):\n",
    "    def update_block(start, panel): #1 시작지점, 판넬정보\n",
    "        max_x, max_y = len(panel[0])-1, len(panel)-1\n",
    "        queue = [start] #2 queue 에 시작 지점을 넣어 준다.\n",
    "        while queue != []: #3 queue 가 비어있지 않으면 계속 반복\n",
    "            x, y = queue.pop(0) #4 queue 의 맨 왼쪽하나를 꺼낸뒤\n",
    "            #5 앞의 조건들은 모서리 케이스를 처리용 and 상하좌우\n",
    "            if y != 0 and panel[y-1][x] == 0: queue.append([x, y-1]) #상\n",
    "            if y != max_y and panel[y+1][x] == 0: queue.append([x, y+1]) #하\n",
    "            if x != 0 and panel[y][x-1] == 0: queue.append([x-1, y]) #좌\n",
    "            if x != max_x and panel[y][x+1] == 0: queue.append([x+1, y]) #우\n",
    "            panel[y][x] = 2 #6 확인된 판넬의 0과 인접한 주위의 0값을 을 2로 변환 해준다.\n",
    "        return panel\n",
    "    \n",
    "    answer = 0\n",
    "    for i in range(len(p)):\n",
    "        for j in range(len(p[i])):\n",
    "            if p[i][j] == 0:\n",
    "                answer += 1\n",
    "                p = update_block([j,i], p) #7 하나씩 확인하면서 판넬을 업데이트한다.\n",
    "    return answer\n"
   ]
  },
  {
   "cell_type": "code",
   "execution_count": 19,
   "metadata": {},
   "outputs": [
    {
     "data": {
      "text/plain": [
       "5"
      ]
     },
     "execution_count": 19,
     "metadata": {},
     "output_type": "execute_result"
    }
   ],
   "source": [
    "panel = [\n",
    "    [0,0,0,1,0,0],\n",
    "    [0,1,1,1,0,0],\n",
    "    [1,1,0,1,1,1],\n",
    "    [0,1,0,0,1,1],\n",
    "    [0,1,0,1,0,0],\n",
    "    [0,0,1,0,0,1],\n",
    "]\n",
    "solution(panel)"
   ]
  },
  {
   "attachments": {},
   "cell_type": "markdown",
   "metadata": {},
   "source": [
    "queue 와 stack 은 list 형태로 보면 딱 하나의 차이만 있어서 맨 왼쪽을 꺼내느냐, 맨 오른쪽을 꺼내느냐 이다.\n",
    "\n",
    "update_block 함수에서 사용한 queue 를 stack 으로 바꿔서 \n",
    "x, y = queue.pop(0)\n",
    "stack 이면 pop(-1) 로 바꿔서 해도 문제를 풀 수 있다.\n",
    "\n",
    "이런 좌표에서의 이동이나, 영역을 다루는 문제는 큐나 스택을 사용해서 풀면 쉽게 풀 수 있다!\n",
    "\n",
    "코테 후 면접에서 어떻게 문제를 풀었냐 질문을 받으면\n",
    "\n",
    "Queue 로 풀면 이렇고~\n",
    "stack 으로 풀면 이렇다~ 로 설명할수 있으면 좋다!"
   ]
  }
 ],
 "metadata": {
  "kernelspec": {
   "display_name": "Python 3",
   "language": "python",
   "name": "python3"
  },
  "language_info": {
   "codemirror_mode": {
    "name": "ipython",
    "version": 3
   },
   "file_extension": ".py",
   "mimetype": "text/x-python",
   "name": "python",
   "nbconvert_exporter": "python",
   "pygments_lexer": "ipython3",
   "version": "3.7.9"
  },
  "orig_nbformat": 4
 },
 "nbformat": 4,
 "nbformat_minor": 2
}
