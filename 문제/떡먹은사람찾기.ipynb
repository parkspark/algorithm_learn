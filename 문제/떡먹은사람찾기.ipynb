{
 "cells": [
  {
   "attachments": {},
   "cell_type": "markdown",
   "metadata": {},
   "source": [
    "#### 떡 먹은 떡만이     \n",
    "똑같이 생긴 세쌍둥이 떡만이 1, 떡만이 2, 떡만이 3이 일렬로 서있습니다. 세 떡만이가 처음에 서 있던 자리를 왼쪽부터 1번, 2번, 3번 자리라고 합니다.\n",
    "\n",
    "떡만이 1은 하나밖에 없는 떡을 한입에 먹어버렸습니다. 그리고 세 떡만이들은 누가 떡을 먹었는지 숨기기 위해 서로 자리를 바꾸려고 합니다.\n",
    "\n",
    "떡만이들은 두 자리를 고른 다음 두 자리에 있는 떡만이들이 자리를 바꾸려고 합니다. 예를 들어, 1번 자리와 3번 자리를 골랐다면 1번 자리에 있는 떡만이가 3번 자리에, 3번 자리에 있던 떡만이가 1번 자리로 이동하게 됩니다.\n",
    "\n",
    "떡만이들이 자리를 M 번 바꾼다고 할 때, 떡 먹은 떡만이를 찾는 프로그램을 작성하세요.\n",
    "\n",
    "\n",
    "[입력]      \n",
    "첫째 줄에 위치를 바꾼 횟수를 나타내는 자연수 M을 입력합니다.    \n",
    "(1<= M<=100)        \n",
    "둘째 줄부터 M개의 줄에는 위치를 바꾼 자리 X와 Y를 공백으로 구분하여 입력합니다.     \n",
    "X와 Y는 1, 2, 3만 입력 가능합니다.      \n",
    "X와 Y의 값은 3보다 작거나 같고, X와 Y가 같을 수도 있습니다.     \n",
    "\n",
    "[출력]          \n",
    "떡을 먹은 떡만이가 위치한 곳의 자리 번호를 출력합니다.      \n",
    "\n",
    "[입력 예시]     \n",
    "4       \n",
    "3 1     \n",
    "2 3     \n",
    "3 1     \n",
    "3 2         \n",
    "\n",
    "[출력 예시]     \n",
    "3       "
   ]
  },
  {
   "attachments": {},
   "cell_type": "markdown",
   "metadata": {},
   "source": [
    "### 내 접근\n",
    "떡 먹은 떡만이\n",
    "세 쌍둥이 중 떡을 먹은 사람은 떡만이 1 한 명이고, 나머지 두 명은 떡을 먹지 않았다.\n",
    "\n",
    "따라서, 떡만이 1의 위치 이동만 생각하면 된다.\n",
    "\n",
    "\n",
    "#### 풀이 과정\n",
    "m 번의 입력의 걸쳐 정수가 두 개씩 입력된다.\n",
    "\n",
    "두 정수 중, 떡만이 1의 현재 위치를 나타내는 수와 같은 수가 있는 경우에만 떡만이 1의 위치가 변하는 것이다.\n",
    "\n",
    "따라서 두 정수 중 떡만이 1의 위치를 변경시키지 않는 움직임은 무시해도 된다.\n",
    "\n",
    "두 정수 중, 떡만이 1의 위치와 일치하는 수가 있다면 떡만이 1의 위치는 다른 한 수가 된다.\n",
    "\n",
    "예를 들어 떡만이 1이 현재 위치 1에 있고, 두 수 1, 3이 입력되면 떡만이 1의 위치는 3이 되는 것이다.\n"
   ]
  },
  {
   "attachments": {},
   "cell_type": "markdown",
   "metadata": {},
   "source": [
    "코드"
   ]
  },
  {
   "cell_type": "code",
   "execution_count": 1,
   "metadata": {},
   "outputs": [
    {
     "name": "stdout",
     "output_type": "stream",
     "text": [
      "3\n"
     ]
    }
   ],
   "source": [
    "dduckman = 1\n",
    "\n",
    "m = int(input())\n",
    "\n",
    "for i in range(m) :\n",
    "    a, b = [int(v) for v in input().split()]\n",
    "    if a == dduckman :\n",
    "        podduckmans = b\n",
    "    elif b == dduckman :\n",
    "        dduckman = a\n",
    "\n",
    "print(dduckman)"
   ]
  }
 ],
 "metadata": {
  "kernelspec": {
   "display_name": "Python 3",
   "language": "python",
   "name": "python3"
  },
  "language_info": {
   "codemirror_mode": {
    "name": "ipython",
    "version": 3
   },
   "file_extension": ".py",
   "mimetype": "text/x-python",
   "name": "python",
   "nbconvert_exporter": "python",
   "pygments_lexer": "ipython3",
   "version": "3.7.9"
  },
  "orig_nbformat": 4
 },
 "nbformat": 4,
 "nbformat_minor": 2
}
