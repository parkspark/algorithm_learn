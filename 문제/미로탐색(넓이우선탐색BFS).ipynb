{
 "cells": [
  {
   "attachments": {},
   "cell_type": "markdown",
   "metadata": {},
   "source": [
    "\n",
    "좌측최상단에서 시작점,\n",
    "우측최하단이 도착점\n",
    "\n",
    "0은 뚫려있고 1은 벽\n",
    "이런 미로를 통과할수 있을지 없을지 판단\n",
    "\n",
    "\n",
    "# 아래 코드는 너비 우선 탐색 (Breadth-first search, BFS)를 큐 자료 구조를 이용함\n",
    "array[0]을 꺼내면 BFS 가 되고\n",
    "array[-1]을 꺼내면 DFS(Depth) 가 된다."
   ]
  },
  {
   "cell_type": "code",
   "execution_count": 1,
   "metadata": {},
   "outputs": [],
   "source": [
    "map1 = [[0,1,1,1,1],\n",
    "       [0,0,1,1,1],\n",
    "       [1,0,0,0,1],\n",
    "       [0,0,1,0,0],\n",
    "       [0,1,1,1,1],\n",
    "       [0,1,0,0,0]]\n",
    "\n",
    "map2 = [[0,1,1,1,1],\n",
    "       [0,0,1,1,1],\n",
    "       [1,0,0,0,1],\n",
    "       [0,0,1,0,0],\n",
    "       [0,1,1,1,1],\n",
    "       [0,0,0,0,0]]"
   ]
  },
  {
   "cell_type": "code",
   "execution_count": 2,
   "metadata": {},
   "outputs": [
    {
     "data": {
      "text/plain": [
       "'\\n1. array[0] 확인해서 그 위치로 올라가고\\n    array[0] 삭제,\\n    지도 위 올라탄 지점 -1 표시\\n\\n2. 이동 가능한 지점을 확인해서 array 에 저장\\n\\n3. 1번으로 돌아감\\n\\n하지만 이 알고리즘은 \\n(도착지점까지 뚫려있다면) 도착지점을 거쳐 가기만 할뿐,\\n아직 도착 지점에 도달할 수 있는지를 알려주지는 않음.\\n'"
      ]
     },
     "execution_count": 2,
     "metadata": {},
     "output_type": "execute_result"
    }
   ],
   "source": [
    "# 시작 하기전 준비물로 갈 수 있는 지점들을 기억해 둘 list 를 만듬\n",
    "array = [[0,0]]\n",
    "\n",
    "'''\n",
    "1. array[0] 확인해서 그 위치로 올라가고\n",
    "    array[0] 삭제,\n",
    "    지도 위 올라탄 지점 -1 표시\n",
    "\n",
    "2. 이동 가능한 지점을 확인해서 array 에 저장\n",
    "\n",
    "3. 1번으로 돌아감\n",
    "\n",
    "하지만 이 알고리즘은 \n",
    "(도착지점까지 뚫려있다면) 도착지점을 거쳐 가기만 할뿐,\n",
    "아직 도착 지점에 도달할 수 있는지를 알려주지는 않음.\n",
    "'''"
   ]
  },
  {
   "cell_type": "code",
   "execution_count": 3,
   "metadata": {},
   "outputs": [],
   "source": [
    "def search_and_update(now_pos, now_map, now_arr):\n",
    "    h, w = len(now_map), len(now_map[0])\n",
    "    now_x, now_y = now_pos\n",
    "    if now_map[max(now_x-1, 0)][now_y] == 0: # 왼쪽\n",
    "        now_arr.append([max(now_x-1, 0), now_y])\n",
    "    if now_map[now_x][max(now_y-1, 0)] == 0: # 위쪽\n",
    "        now_arr.append([now_x, max(now_y-1, 0)])\n",
    "    if now_map[min(now_x+1, h-1)][now_y] == 0: # 오른쪽\n",
    "        now_arr.append([min(now_x+1, h-1), now_y])\n",
    "    if now_map[now_x][min(now_y+1, w-1)] == 0: # 아래\n",
    "        now_arr.append([now_x, min(now_y+1, w-1)])\n",
    "    return now_arr   \n",
    "\n",
    "# max(now_x-1, 0)\n",
    "# now_x 가 0일 때 now_map[-1][0]을 보게 되어 index 가 꼬이는 것을 방지\n",
    "# 이 트릭으로 now_pos와 같은 위치를 보게 되어도 아까 map_[now_position]=-1로 설정해뒀기 떄문에 if문은 False 로 지나감"
   ]
  },
  {
   "cell_type": "code",
   "execution_count": 4,
   "metadata": {},
   "outputs": [],
   "source": [
    "'''\n",
    "이 조건을 1. 에 추가한다.\n",
    "\n",
    "if len(array) == 0 : #(더 이상 갈 수 있는 곳이 없음)\n",
    "    return False\n",
    "    \n",
    "2.에 추가\n",
    "\n",
    "if end in array: #(목적지에 도달 가능함, end == [5,4])\n",
    "    return True\n",
    "'''\n",
    "\n",
    "\n",
    "def can_go(start, end, map_ = None):\n",
    "    arr = [start]\n",
    "    while len(arr) != 0:\n",
    "        #1\n",
    "        now_position = arr.pop(0) # arr.pop(0) 의 값은 arr[0]을 가지면서, 동시에 arr의 0번째 item은 제거\n",
    "        map_[now_position[0]][now_position[1]] = -1 # 위치에 올라갔다 = now_position 에 위치값을 대입\n",
    "        \n",
    "        #2\n",
    "        arr = search_and_update(now_position, map_, arr) # 상하좌우 확인하고 arr 업데이트 하는 함수\n",
    "        if end in arr : return True\n",
    "    return False"
   ]
  },
  {
   "cell_type": "code",
   "execution_count": 6,
   "metadata": {},
   "outputs": [
    {
     "name": "stdout",
     "output_type": "stream",
     "text": [
      "False\n",
      "True\n"
     ]
    }
   ],
   "source": [
    "start, end = [0,0],[5,4]\n",
    "\n",
    "print(can_go(start, end, map1))\n",
    "print(can_go(start, end, map2))"
   ]
  },
  {
   "cell_type": "code",
   "execution_count": null,
   "metadata": {},
   "outputs": [],
   "source": []
  }
 ],
 "metadata": {
  "kernelspec": {
   "display_name": "Python 3",
   "language": "python",
   "name": "python3"
  },
  "language_info": {
   "codemirror_mode": {
    "name": "ipython",
    "version": 3
   },
   "file_extension": ".py",
   "mimetype": "text/x-python",
   "name": "python",
   "nbconvert_exporter": "python",
   "pygments_lexer": "ipython3",
   "version": "3.7.9"
  },
  "orig_nbformat": 4
 },
 "nbformat": 4,
 "nbformat_minor": 2
}
