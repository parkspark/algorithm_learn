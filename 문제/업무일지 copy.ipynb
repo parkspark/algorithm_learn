{
 "cells": [
  {
   "attachments": {},
   "cell_type": "markdown",
   "metadata": {},
   "source": [
    "자신의 개인 정보가 유출될까 두려운 김 박사는 모든 개인정보를 40자리 숫자로 변환하여 저장하였습니다.\n",
    "\n",
    "하지만 숫자로 변환하여 저장한 데이터는 만약 손상되어 다른 숫자로 변하더라도 손상된 데이터인지 확인할 수 있는 방법이 없었습니다.\n",
    "\n",
    "그래서 김 박사는 데이터가 손상되었는지 확인하기 위하여 원래의 데이터를 특이한 방법으로 요약하여 비교할 수 있는 체크 암호를 개발하였습니다.\n",
    "\n",
    "체크 암호를 만드는 방법은 다음과 같았습니다.\n",
    "\n",
    "1. 모든 데이터를 더한다.\n",
    "2. 더한 수의 앞에서부터 10자리 수를 체크 암호로 사용한다.\n",
    "\n",
    "김 박사는 저장된 데이터를 다시 사용할 때 데이터를 전부 더해보고 더한 수의 앞자리를 체크 암호와 비교해보면 데이터의 손상 여부를 알 수 있게 만들었습니다.\n",
    "\n",
    "그러면 N 개의 데이터가 주어졌을 때, 체크 암호를 만드는 프로그램을 작성하세요.\n",
    "\n",
    "\n",
    "[입력]\n",
    "첫 번째 줄에는 김 박사가 저장할 데이터의 개수 자연수 N을 입력합니다.\n",
    "(1<=N<=100)\n",
    "\n",
    "그다음 N개의 줄에는 김 박사가 저장할 데이터를 한 줄에 한 개씩 입력합니다. 한 개의 데이터는 40자리 숫자입니다.\n",
    "\n",
    "[출력]\n",
    "입력된 데이터로 만든 체크 암호를 출력합니다.\n",
    "\n",
    "\n",
    "\n",
    "[입력 예시]    \n",
    "5    \n",
    "4078992311553556256114232242325503368544  \n",
    "4488991150144064802036906806396067232219  \n",
    "4150312888033953605329934036800697771065  \n",
    "8123488067321014673905856855793458140362  \n",
    "8261657077394832759223284594170652509451\n",
    "\n",
    "\n",
    "[출력 예시]    \n",
    "2910344149"
   ]
  },
  {
   "attachments": {},
   "cell_type": "markdown",
   "metadata": {},
   "source": [
    "### 내 접근\n",
    "n개의 40자리 수를 모두 더한 다음, 상위 10자리 수를 출력해야 하는 문제.\n",
    "\n",
    "\n",
    "n번 반복하는 반복문을 만들고, 입력되는 정수들을 모두 더한다.\n",
    "\n",
    "모두 합한 결과를 문자열로 변환한 다음, 슬라이싱을 이용해 상위 10자리 수를 간편하게 출력할 수 있다.\n",
    "\n",
    "## int는 슬라이싱 안되니까 str형으로 바꿔줄것"
   ]
  },
  {
   "cell_type": "code",
   "execution_count": 2,
   "metadata": {},
   "outputs": [
    {
     "name": "stdout",
     "output_type": "stream",
     "text": [
      "29103441494447422096610214535486379021641\n"
     ]
    }
   ],
   "source": [
    "N = int(input())\n",
    "\n",
    "\n",
    "sum = 0\n",
    "for i in range(N) :\n",
    "    sum += int(input())\n",
    "    \n",
    "print(sum)"
   ]
  },
  {
   "cell_type": "code",
   "execution_count": 3,
   "metadata": {},
   "outputs": [
    {
     "ename": "TypeError",
     "evalue": "'int' object is not subscriptable",
     "output_type": "error",
     "traceback": [
      "\u001b[1;31m---------------------------------------------------------------------------\u001b[0m",
      "\u001b[1;31mTypeError\u001b[0m                                 Traceback (most recent call last)",
      "\u001b[1;32m~\\AppData\\Local\\Temp\\ipykernel_5896\\1529964310.py\u001b[0m in \u001b[0;36m<module>\u001b[1;34m\u001b[0m\n\u001b[0;32m      1\u001b[0m \u001b[0ma\u001b[0m\u001b[1;33m=\u001b[0m\u001b[1;36m29103441494447422096610214535486379021641\u001b[0m\u001b[1;33m\u001b[0m\u001b[1;33m\u001b[0m\u001b[0m\n\u001b[1;32m----> 2\u001b[1;33m \u001b[0mprint\u001b[0m\u001b[1;33m(\u001b[0m\u001b[0ma\u001b[0m\u001b[1;33m[\u001b[0m\u001b[1;33m:\u001b[0m\u001b[1;36m10\u001b[0m\u001b[1;33m]\u001b[0m\u001b[1;33m)\u001b[0m\u001b[1;33m\u001b[0m\u001b[1;33m\u001b[0m\u001b[0m\n\u001b[0m",
      "\u001b[1;31mTypeError\u001b[0m: 'int' object is not subscriptable"
     ]
    }
   ],
   "source": [
    "a=29103441494447422096610214535486379021641\n",
    "print(a[:10])"
   ]
  },
  {
   "cell_type": "code",
   "execution_count": 4,
   "metadata": {},
   "outputs": [
    {
     "name": "stdout",
     "output_type": "stream",
     "text": [
      "2910344149\n"
     ]
    }
   ],
   "source": [
    "a=29103441494447422096610214535486379021641\n",
    "print(str(a)[:10])"
   ]
  }
 ],
 "metadata": {
  "kernelspec": {
   "display_name": "Python 3",
   "language": "python",
   "name": "python3"
  },
  "language_info": {
   "codemirror_mode": {
    "name": "ipython",
    "version": 3
   },
   "file_extension": ".py",
   "mimetype": "text/x-python",
   "name": "python",
   "nbconvert_exporter": "python",
   "pygments_lexer": "ipython3",
   "version": "3.7.9"
  },
  "orig_nbformat": 4
 },
 "nbformat": 4,
 "nbformat_minor": 2
}
