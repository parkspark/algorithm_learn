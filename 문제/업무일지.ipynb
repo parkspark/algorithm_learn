{
 "cells": [
  {
   "attachments": {},
   "cell_type": "markdown",
   "metadata": {},
   "source": [
    "도도새는 관광객들에게 판매하기 위해 조개껍데기로 액세서리를 만드는 일을 합니다. \\\n",
    "매일 액세서리를 만들지만, 매번 같은 양의 액세서리를 제작하지는 않습니다. \\\n",
    "그래서 도도새는 자신이 몇 개의 액세서리를 제작하는지 개수를 기록하는 업무일지를 작성합니다.\n",
    "\n",
    "업무일지는 두 가지로 작성을 하는데 첫 번째 업무일지 A에는 매일매일 만드는 액세서리의 개수는 그대로 기재합니다. \\\n",
    "그리고 두 번째 업무일지 B에는 첫날부터 매일 만들어온 액세서리 개수의 평균값을 기재합니다.\n",
    "\n",
    "예를 들어, 도도새가 5일간 1개, 3개, 2개, 6개, 8개의 액세서리를 제작했다면 업무일지 A에는 1, 3, 2, 6, 8과 같이 기입하면 되고, \\\n",
    "업무일지 B에는 1/1, (1+3)/2, (1+3+2)/3, (1+3+2+6)/4, (1+3+2+6+8)/5, 즉, 1, 2, 2, 3, 4처럼 입력하면 됩니다.\n",
    "\n",
    "도도새가 업무일지 A를 잃어버렸습니다. 업무일지 B를 보고 업무일지 A를 복구하는 프로그램을 작성하세요.\n",
    "\n",
    "\n",
    "[입력]\n",
    "첫째 줄에는 업무일지 B의 길이를 나타내는 정수 N을 입력합니다.\n",
    "(1≤N≤100)\n",
    "\n",
    "둘째 줄에는 업무일지 를 이루는 N개의 정수를 입력합니다.\n",
    "(1 ≤ Bᵢ ≤ 1,000)\n",
    "\n",
    "[출력]\n",
    "업무일지 A를 이루는 N개의 정수를 출력합니다.\n",
    "(1 ≤ Aᵢ ≤ 1,000)\n",
    "\n",
    "\n",
    "[입력 예시]   \n",
    "5    \n",
    "1 2 2 3 4\n",
    "\n",
    "[출력 예시]\\\n",
    "1 3 2 6 8"
   ]
  },
  {
   "attachments": {},
   "cell_type": "markdown",
   "metadata": {},
   "source": [
    "### 내 접근\n",
    "\n",
    "i개의 수들의 평균이 주어졌을 때, 각 수가 무엇인지 맞추어야 하는 문제.\n",
    "\n",
    "다른 단서 없이 평균값만 갖고서는 각 수의 값을 맞출 수 없지만, 문제에서는 1번째부터 i번째 수까지의 평균값과 함께 i번째 수를 제외한, 1번째부터 i-1번째 숫자들의 값을 이미 알고 있는 상태이기 때문에 i번째 수의 값을 구할 수 있다.\n",
    "\n",
    "또한 A_1 = B_1임을 이용한다.\n",
    "\n",
    "\n",
    "\n",
    "B2 = (A1+A2) /2 이고, A1의 값은 이미 알고있으므로 A2의 값도 계산 가능\n",
    "B3 = (A1+A2+A3)/3 이고, A1과 A2의 값도 계산가능\n",
    "...\n",
    "\n",
    "이런식으로 순차적으로 모든 A 의 값을 알아낼수 있다."
   ]
  },
  {
   "cell_type": "code",
   "execution_count": 3,
   "metadata": {},
   "outputs": [
    {
     "name": "stdout",
     "output_type": "stream",
     "text": [
      "[1, 3, 2, 6, 8]\n"
     ]
    }
   ],
   "source": [
    "N = input()\n",
    "B = list(map(int, input().split()))\n",
    "\n",
    "sum = 0\n",
    "AList = []\n",
    "for i in range(len(B)):\n",
    "    if i == 0:\n",
    "        temp = B[i]\n",
    "        sum += temp\n",
    "        AList.append(temp)\n",
    "    else:\n",
    "        temp = B[i]*(i+1) - sum\n",
    "        sum += temp\n",
    "        AList.append(temp)\n",
    "        \n",
    "print(AList)"
   ]
  }
 ],
 "metadata": {
  "kernelspec": {
   "display_name": "Python 3",
   "language": "python",
   "name": "python3"
  },
  "language_info": {
   "codemirror_mode": {
    "name": "ipython",
    "version": 3
   },
   "file_extension": ".py",
   "mimetype": "text/x-python",
   "name": "python",
   "nbconvert_exporter": "python",
   "pygments_lexer": "ipython3",
   "version": "3.7.9"
  },
  "orig_nbformat": 4
 },
 "nbformat": 4,
 "nbformat_minor": 2
}
