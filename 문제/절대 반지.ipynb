{
 "cells": [
  {
   "attachments": {},
   "cell_type": "markdown",
   "metadata": {},
   "source": [
    "절대 반지  \n",
    "도도새는 N개의 반지를 가지고 있습니다. 반지에는 알파벳 대문자로 이루이진 문자열이 새겨져 있습니다. 적힌 문자열은 10자를 넘지 않으며 알파벳 대문자로 이루어져 있습니다.\n",
    "\n",
    "도도새가 반지의 적힌 문자열을 읽을 때 항상 시계 방향으로 읽으며 문자열의 시작과 끝이 연결된 형태로 문자가 새겨져 있습니다.\n",
    "\n",
    "도도새가 가지고 있는 반지의 일부는 모자 장수의 것인데, 반지에 새겨진 문자열 중 모자 장수의 별명이 포함되면 모자 장수의 것이라고 합니다.\n",
    "\n",
    "각 반지에 새겨진 문자열을 줬을 때 모자 장수 반지의 개수를 출력하는 프로그램을 작성하세요.\n",
    "\n",
    "[입력]  \n",
    "첫 번째 줄에 모자 장수의 별명을 입력합니다. 별명은 알파벳 대문자이며 10자를 넘지 않습니다.  \n",
    "두 번째 줄에 도도새가 가지고 있는 반지의 개수인 자연수 N을 입력합니다.  \n",
    "(1≤N≤5)  \n",
    "세 번째부터 각 반지에 새겨진 문자열을 한 줄씩 입력합니다.  \n",
    "\n",
    "[출력]  \n",
    "첫 번째 줄에 모자 장수의 반지의 개수를 출력합니다.\n",
    "\n",
    "\n",
    "[입력 예시]  \n",
    "ABC  \n",
    "2  \n",
    "ABCAAAAAAA  \n",
    "CWEQWFGAB  \n",
    "  \n",
    "[출력 예시]  \n",
    "2"
   ]
  },
  {
   "attachments": {},
   "cell_type": "markdown",
   "metadata": {},
   "source": [
    "### 내 접근\n",
    "어떤 문자열 내에, 특정 문자열이 포함되어 있는지 확인해보아야 하는 문제.\n",
    "\n",
    "문자열의 처음과 끝이 이어져 있다는 점을 주의.\n",
    "\n",
    "\n",
    "\n",
    "#### 풀이 과정\n",
    "어떤 문자열 A가 다른 문자열 B를 포함하고 있는지 확인하기 위해서는 in 연산자를 사용하면 됩니다. \n",
    "예를 들어 B in A라고 표현할 수 있습니다.\n",
    "\n",
    "이 문제에서도 문자열의 포함 관계를 묻고 있기 때문에 in 연산자를 사용하면 됩니다. \n",
    "다만 포함하는지 확인하는 문자열의 처음과 끝이 연결되어 있어야 하므로, 그 문자열을 한 번 반복시킨 값에 대해 in을 적용합니다.\n",
    "\n",
    "예를 들어, abcde라는 문자열에 어떤 문자열이 포함되어있는지 확인해야 한다면 abcde를 반복한 abcdeabcde에 대해 in을 적용하면 된다는 의미입니다."
   ]
  },
  {
   "cell_type": "code",
   "execution_count": 1,
   "metadata": {},
   "outputs": [
    {
     "name": "stdout",
     "output_type": "stream",
     "text": [
      "2\n"
     ]
    }
   ],
   "source": [
    "c = input()\n",
    "\n",
    "n = int(input())\n",
    "\n",
    "result = 0\n",
    "\n",
    "for i in range(n) :\n",
    "    if c in input()*2 :\n",
    "        result += 1\n",
    "\n",
    "print(result)"
   ]
  }
 ],
 "metadata": {
  "kernelspec": {
   "display_name": "Python 3",
   "language": "python",
   "name": "python3"
  },
  "language_info": {
   "codemirror_mode": {
    "name": "ipython",
    "version": 3
   },
   "file_extension": ".py",
   "mimetype": "text/x-python",
   "name": "python",
   "nbconvert_exporter": "python",
   "pygments_lexer": "ipython3",
   "version": "3.7.9"
  },
  "orig_nbformat": 4
 },
 "nbformat": 4,
 "nbformat_minor": 2
}
