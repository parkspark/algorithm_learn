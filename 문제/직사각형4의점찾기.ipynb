{
 "cells": [
  {
   "attachments": {},
   "cell_type": "markdown",
   "metadata": {},
   "source": [
    "직사각형을 만드는 데 필요한 4개의 점 중 3개의 좌표가 주어질 때, 나머지 한 점의 좌표를 구하려고 합니다. 점 3개의 좌표가 들어있는 배열 v 가 매개변수로 주어질 때, 직사각형을 만드는 데 필요한 나머지 한 점의 좌표를 return 하는 함수를 완성해주세요.\n",
    "단 직사각형의 각 변은 x 축, y축에 평행하며, 반드시 직사각형을 만들 수 있는 경우만 입력으로 주어진다.\n",
    "\n",
    "v는 각 원 소의 점의 좌표를 나타내며, 좌표는 [x축좌표, y축 좌표] 순으로 주어집니다.\n",
    "직사각형을 만드는데 필요한 나머지 한 점의 좌표를 [x축좌표, y축좌표] 순으로 담아 return 해주세요.\n",
    "\n",
    "입출력 예시 \n",
    "v = [[1,4],[3,4],[3,10]]\n",
    "\n",
    "결과 : [1,10]\n",
    "\n",
    "v = [[1,1],[2,2],[1,2]]\n",
    "\n",
    "결과 : [2,1]"
   ]
  },
  {
   "cell_type": "code",
   "execution_count": 1,
   "metadata": {},
   "outputs": [],
   "source": [
    "def findFourthPoint(v):\n",
    "    x_coordinates = [point[0] for point in v]\n",
    "    y_coordinates = [point[1] for point in v]\n",
    "    \n",
    "    for x in x_coordinates:\n",
    "        if x_coordinates.count(x) == 1:\n",
    "            x_result = x\n",
    "    for y in y_coordinates:\n",
    "        if y_coordinates.count(y) == 1:\n",
    "            y_result = y\n",
    "    \n",
    "    return [x_result, y_result]"
   ]
  },
  {
   "cell_type": "code",
   "execution_count": 2,
   "metadata": {},
   "outputs": [
    {
     "data": {
      "text/plain": [
       "[1, 10]"
      ]
     },
     "execution_count": 2,
     "metadata": {},
     "output_type": "execute_result"
    }
   ],
   "source": [
    "v = [[1,4],[3,4],[3,10]]\n",
    "findFourthPoint(v)"
   ]
  },
  {
   "cell_type": "code",
   "execution_count": 3,
   "metadata": {},
   "outputs": [
    {
     "data": {
      "text/plain": [
       "[2, 1]"
      ]
     },
     "execution_count": 3,
     "metadata": {},
     "output_type": "execute_result"
    }
   ],
   "source": [
    "v = [[1,1],[2,2],[1,2]]\n",
    "findFourthPoint(v)"
   ]
  }
 ],
 "metadata": {
  "kernelspec": {
   "display_name": "Python 3",
   "language": "python",
   "name": "python3"
  },
  "language_info": {
   "codemirror_mode": {
    "name": "ipython",
    "version": 3
   },
   "file_extension": ".py",
   "mimetype": "text/x-python",
   "name": "python",
   "nbconvert_exporter": "python",
   "pygments_lexer": "ipython3",
   "version": "3.7.9"
  },
  "orig_nbformat": 4
 },
 "nbformat": 4,
 "nbformat_minor": 2
}
