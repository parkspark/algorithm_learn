{
 "cells": [
  {
   "attachments": {},
   "cell_type": "markdown",
   "metadata": {},
   "source": [
    "딕서너리 정렬하기\n",
    "\n",
    "\n",
    "조건\n",
    "1. 주어진 딕서너리는 다음과 같다\n",
    "{'Marry':10999, 'Sams':2111, 'Aimy':9778, 'Tom':20245, 'Michale':27115, 'Bob':5887, 'Kelly':7855}\n",
    "\n",
    "2. 결과는 아래와 같이 나타낸다\n",
    "\n",
    "첫번째 :  ['Aimy', 'Bob', 'Kelly', 'Marry', 'Michale', 'Sams', 'Tom']\\\n",
    "두번째 :  [('Aimy', 9778), ('Bob', 5887), ('Kelly', 7855), ('Marry', 10999), ('Michale', 27115), ('Sams', 2111), ('Tom', 20245)]\\\n",
    "세번째 :  [('Sams', 2111), ('Bob', 5887), ('Kelly', 7855), ('Aimy', 9778), ('Marry', 10999), ('Tom', 20245), ('Michale', 27115)]\\\n",
    "네번째 :  [('Michale', 27115), ('Tom', 20245), ('Marry', 10999), ('Aimy', 9778), ('Kelly', 7855), ('Bob', 5887), ('Sams', 2111)]\\\n",
    "\n",
    "3.  네개의 출력을 print을 이용하여 화면에 출력한다.\n"
   ]
  },
  {
   "cell_type": "code",
   "execution_count": null,
   "metadata": {},
   "outputs": [],
   "source": []
  }
 ],
 "metadata": {
  "language_info": {
   "name": "python"
  },
  "orig_nbformat": 4
 },
 "nbformat": 4,
 "nbformat_minor": 2
}
