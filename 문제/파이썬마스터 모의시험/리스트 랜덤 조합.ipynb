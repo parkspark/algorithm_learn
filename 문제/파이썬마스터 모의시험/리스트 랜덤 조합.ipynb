{
 "cells": [
  {
   "attachments": {},
   "cell_type": "markdown",
   "metadata": {},
   "source": [
    "남여 파트너 정해주기 프로그램 만들기\n",
    "\n",
    "조건\n",
    "\n",
    "남자와 여자의 조건은 다음과 같다\n",
    "male = ['수퍼맨','배트맨','아쿠아맨','아이언맨','스파이더맨']\n",
    "female = ['원더우먼','캡틴마블','블랙윈도우','배트걸','수퍼걸']\n",
    "\n",
    "결과는 랜덤하기 아래와 같이 화면에 프린트되게 한다.\n",
    "커플1:[배트맨]-[블랙윈도우]\n",
    "커플2:[아쿠아맨]-[수퍼걸]\n",
    "커플3:[수퍼맨]-[원더우먼]\n",
    "커플4:[스파이더맨]-[배트걸]\n",
    "커플5:[아이언맨]-[캡틴마블]"
   ]
  },
  {
   "cell_type": "code",
   "execution_count": null,
   "metadata": {},
   "outputs": [],
   "source": [
    "import random\n",
    "\n",
    "male = ['수퍼맨', '배트맨', '아쿠아맨', '아이언맨', '스파이더맨']\n",
    "female = ['원더우먼', '캡틴마블', '블랙윈도우', '배트걸', '수퍼걸']\n",
    "\n",
    "random.shuffle(male)  # 남자 리스트를 섞습니다.\n",
    "random.shuffle(female)  # 여자 리스트를 섞습니다.\n",
    "\n",
    "for i in range(len(male)):\n",
    "    print(f\"커플{i + 1} : [{male[i]}]-[{female[i]}]\")\n"
   ]
  }
 ],
 "metadata": {
  "language_info": {
   "name": "python"
  },
  "orig_nbformat": 4
 },
 "nbformat": 4,
 "nbformat_minor": 2
}
