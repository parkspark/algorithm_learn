{
 "cells": [
  {
   "attachments": {},
   "cell_type": "markdown",
   "metadata": {},
   "source": [
    "문자 코드 구하기\n",
    "\n",
    "\n",
    "조건\n",
    "1. 문자를 커맨드 창에서 입력받는다.\n",
    "2. 입력은 \"문자 1개를 입력하세요 : \"로 한다.\n",
    "3. input 함수 사용불가, ch='c' 배정문으로 사용한다.\n",
    "4. 결과는 아래와 같이 화면에 프린트한다.\n",
    "\n",
    "문자 : c \t 코드값: 99[0x63]\n"
   ]
  },
  {
   "cell_type": "code",
   "execution_count": 1,
   "metadata": {},
   "outputs": [
    {
     "name": "stdout",
     "output_type": "stream",
     "text": [
      "문자: c \t 코드값: 99[0x63]\n"
     ]
    }
   ],
   "source": [
    "ch = 'c'\n",
    "print(\"문자: {0} \\t 코드값: {1}[{2}]\".format(ch, ord(ch), hex(ord(ch))))"
   ]
  },
  {
   "attachments": {},
   "cell_type": "markdown",
   "metadata": {},
   "source": [
    "조건에 따라 문자를 사용자로부터 입력받지 않고 직접 코드 내부에 배정하는 방식으로 작성.\n",
    "\n",
    "처음에 '배정문'? 이 뭐고 했는데,\n",
    "\n",
    "1.할당문 / 대입문 / 배정문 / 지정문 (Assignment Statement)\n",
    "\n",
    "- 표현식 반환 결과로 나온 값을, 변수에 `변경,할당,대입,배정`할 수 있는 연산문\n",
    "\n",
    "- 이름을 갖는 특정 변수에 값을 바인딩하는 문장\n",
    "- [유의] 할당문에서, 변수에 바인딩하는 것은, 표현식 결과 값이지 표현식 자체가 아님\n",
    "\n",
    "- 통상, 이때 쓰이는 `=` 기호는, 수학에서의 동치가 아니라, 대입문에 쓰이는 대입 연산자(Assignment Operator) 임\n",
    "- 변수에 값을 할당하기 위해 쓰임\n",
    "- 즉, x = y 경우에, y 값을 x에 복사하라는 것\n",
    "\n",
    "\n",
    "\\\n",
    "2. 할당문 종류\n",
    "\n",
    "단순 할당문 (single assignment statement)\n",
    "- x = 표현식  => 단일 변수 x에 표현식 값을 하나 만 할당\n",
    "\n",
    "다중 변수 할당문 (multiple assignment statement)\n",
    "- x,y,z = 표현식  => 1 이상의 변수 x,y,z에 식 값을 각각 할당\n",
    "\n",
    "조건 변수 할당문 (삼항 연산자 참조)\n",
    "- 조건 ? 표현식1 : 표현식2  => \n",
    "- 조건이 맞으면, 표현식1의 값을,\n",
    "- 조건이 틀리면, 표현식2의 값을 반환\n",
    "\n",
    "그냥 배정문 = 할당문 = 변수에 할당 한 것이다. 용어 알고가자.\n",
    "\n",
    "아래 코드에서 'ch' 변수에 직접 문자를 할당한 부분이 ch = 'c' 배정문이다.\n",
    "\n",
    "ch = 'c'\n",
    "print(\"문자: {0} \\t 코드값: {1}[{2}]\".format(ch, ord(ch), hex(ord(ch))))\n",
    "\n",
    "위 코드는 변수 ch에 문자 'c'를 할당한 다음, 문자와 코드값(ASCII 값)을 출력합니다. \n",
    "\n",
    "ch에 문자 'c를 할당합니다: ch = 'c'`\n",
    "\n",
    "문자 ch, 그리고 ord(ch)로 계산한 문자의 ASCII 코드값(정수)와 hex(ord(ch))로 계산한16진수 코드값을 사용하여 출력:\\\n",
    "\n",
    "print(\"문자: {0} \\t 코드값: {1}[{2}]\".format(ch, ord(ch), hex(ord(ch))))\n",
    "\n",
    "실행하면 다음과 같은 결과가 출력\n",
    "\n",
    "문자 c      코드값: 99[0x63]"
   ]
  },
  {
   "attachments": {},
   "cell_type": "markdown",
   "metadata": {},
   "source": [
    "### 여담\n",
    "문제의 설명이 정말 저거 뿐이라, 16진법을 나타것인지 처음에는 알기 힘들었다.\n",
    "파이썬은 2진법, 8진법 16진법을 지원하는 함수를 자체적으로 내장하고 있기에 n진수문제 한번 다시 참조!"
   ]
  }
 ],
 "metadata": {
  "kernelspec": {
   "display_name": "Python 3",
   "language": "python",
   "name": "python3"
  },
  "language_info": {
   "codemirror_mode": {
    "name": "ipython",
    "version": 3
   },
   "file_extension": ".py",
   "mimetype": "text/x-python",
   "name": "python",
   "nbconvert_exporter": "python",
   "pygments_lexer": "ipython3",
   "version": "3.7.9"
  },
  "orig_nbformat": 4
 },
 "nbformat": 4,
 "nbformat_minor": 2
}
