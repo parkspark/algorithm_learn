{
 "cells": [
  {
   "cell_type": "markdown",
   "metadata": {},
   "source": [
    "# 부분함수\n",
    "\n",
    "partial 은 함수를 만드는 함수이다.\n",
    "\n",
    "\n",
    "함수의 특정 입력값을 고정시키는데 사용한다."
   ]
  },
  {
   "cell_type": "code",
   "execution_count": 1,
   "metadata": {},
   "outputs": [],
   "source": [
    "from functools import partial"
   ]
  },
  {
   "cell_type": "code",
   "execution_count": 4,
   "metadata": {},
   "outputs": [
    {
     "data": {
      "text/plain": [
       "3.33"
      ]
     },
     "execution_count": 4,
     "metadata": {},
     "output_type": "execute_result"
    }
   ],
   "source": [
    "new_round = partial(round, ndigits=2)\n",
    "new_round(3.3333)"
   ]
  },
  {
   "cell_type": "code",
   "execution_count": 5,
   "metadata": {},
   "outputs": [
    {
     "data": {
      "text/plain": [
       "3.3"
      ]
     },
     "execution_count": 5,
     "metadata": {},
     "output_type": "execute_result"
    }
   ],
   "source": [
    "new_round(3.3333, ndigits=1)"
   ]
  },
  {
   "cell_type": "markdown",
   "metadata": {},
   "source": [
    "# 자리수를 특정 값으로 고정하는 새로운 함수를 만들고 싶다.\n",
    "\n",
    "예를 들어서 둘재 자리수 까지 고정하고 싶다면?"
   ]
  },
  {
   "cell_type": "code",
   "execution_count": 6,
   "metadata": {},
   "outputs": [
    {
     "data": {
      "text/plain": [
       "3.12"
      ]
     },
     "execution_count": 6,
     "metadata": {},
     "output_type": "execute_result"
    }
   ],
   "source": [
    "def two_round(num):\n",
    "    return round(num, ndigits=2)\n",
    "\n",
    "two_round(3.12345)"
   ]
  },
  {
   "cell_type": "markdown",
   "metadata": {},
   "source": [
    "이런식으로 partial은 함수 입력의 특정 부분을 고정한 새로운 함수를 만들어준다.\n",
    "\n",
    "partial(function, arg=value, ...)  #(원래 고정할 함수, 고정할 입력=입력값, ...)"
   ]
  },
  {
   "cell_type": "code",
   "execution_count": 7,
   "metadata": {},
   "outputs": [
    {
     "data": {
      "text/plain": [
       "3.123"
      ]
     },
     "execution_count": 7,
     "metadata": {},
     "output_type": "execute_result"
    }
   ],
   "source": [
    "three_round = partial(round, ndigits=3)\n",
    "three_round(3.12345)"
   ]
  },
  {
   "cell_type": "markdown",
   "metadata": {},
   "source": [
    "from functools import partial\n",
    "을 사용하지 않고도 파이선 기본 문법인 lmabda로 사용할수 있다."
   ]
  },
  {
   "cell_type": "code",
   "execution_count": 8,
   "metadata": {},
   "outputs": [
    {
     "data": {
      "text/plain": [
       "3.1235"
      ]
     },
     "execution_count": 8,
     "metadata": {},
     "output_type": "execute_result"
    }
   ],
   "source": [
    "four_round = lambda x: round(x, ndigits=4)\n",
    "four_round(3.12345)"
   ]
  },
  {
   "cell_type": "markdown",
   "metadata": {},
   "source": [
    "근데 lambda 로도 충분한데 왜 partail 을 사용하는가??\n",
    "\n",
    "차이는\n",
    "부분 입력을 \"변수\"로 줄 때 이다.\n",
    "\n"
   ]
  },
  {
   "cell_type": "code",
   "execution_count": 11,
   "metadata": {},
   "outputs": [],
   "source": [
    "from functools import partial\n",
    "nd =2"
   ]
  },
  {
   "cell_type": "code",
   "execution_count": 15,
   "metadata": {},
   "outputs": [
    {
     "name": "stdout",
     "output_type": "stream",
     "text": [
      "3.12\n",
      "3.12\n"
     ]
    }
   ],
   "source": [
    "new_round_partial = partial(round, ndigits = nd)\n",
    "new_round_lambda = lambda x: round(x, ndigits=nd)\n",
    "\n",
    "print(new_round_partial(3.12345))\n",
    "print(new_round_lambda(3.12345))"
   ]
  },
  {
   "cell_type": "code",
   "execution_count": 16,
   "metadata": {},
   "outputs": [
    {
     "name": "stdout",
     "output_type": "stream",
     "text": [
      "3.12\n",
      "3.123\n"
     ]
    }
   ],
   "source": [
    "nd = 3\n",
    "print(new_round_partial(3.12345))\n",
    "print(new_round_lambda(3.12345))"
   ]
  },
  {
   "cell_type": "markdown",
   "metadata": {},
   "source": [
    "변한다.\n",
    "\n",
    "partial 로 선언할때에는 선언 당시에 그 변수가 갖고 있는 값을 본다.\n",
    "\n",
    "lmabda는 변수 그자체에 집중한다.\n"
   ]
  },
  {
   "cell_type": "markdown",
   "metadata": {},
   "source": [
    "# 결론\n",
    "\n",
    "partial 을 사용할 때에는 부분 입력을 변수 값 변해도 선언 시점의 값으로 고정 하고 싶을때 사용함."
   ]
  }
 ],
 "metadata": {
  "kernelspec": {
   "display_name": "Python 3",
   "language": "python",
   "name": "python3"
  },
  "language_info": {
   "codemirror_mode": {
    "name": "ipython",
    "version": 3
   },
   "file_extension": ".py",
   "mimetype": "text/x-python",
   "name": "python",
   "nbconvert_exporter": "python",
   "pygments_lexer": "ipython3",
   "version": "3.7.9"
  },
  "orig_nbformat": 4
 },
 "nbformat": 4,
 "nbformat_minor": 2
}
