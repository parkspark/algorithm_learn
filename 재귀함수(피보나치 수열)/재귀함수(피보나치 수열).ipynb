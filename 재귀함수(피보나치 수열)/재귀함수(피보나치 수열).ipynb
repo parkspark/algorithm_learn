{
 "cells": [
  {
   "attachments": {},
   "cell_type": "markdown",
   "metadata": {},
   "source": [
    "#피보나치 수열 과 탈재귀함수\n",
    "\n",
    "피보나치 수열의 유형에는 크게 3가지가 있다.\n",
    "1. O(1) 일반항\n",
    "2. 재귀함수\n",
    "3. dynamic programming(동적 계획법)"
   ]
  },
  {
   "cell_type": "code",
   "execution_count": 1,
   "metadata": {},
   "outputs": [],
   "source": [
    "#1. O(1) 일반항\n",
    "\n",
    "def Fibonacci(n):\n",
    "    sqrt_five = 5**(1/2)\n",
    "    answer = round((((1+sqrt_five)/2)**n - ((1-sqrt_five)/2)**n) / sqrt_five)\n",
    "    return answer"
   ]
  },
  {
   "cell_type": "code",
   "execution_count": 2,
   "metadata": {},
   "outputs": [
    {
     "ename": "OverflowError",
     "evalue": "(34, 'Result too large')",
     "output_type": "error",
     "traceback": [
      "\u001b[1;31m---------------------------------------------------------------------------\u001b[0m",
      "\u001b[1;31mOverflowError\u001b[0m                             Traceback (most recent call last)",
      "\u001b[1;32m~\\AppData\\Local\\Temp\\ipykernel_16248\\1425192500.py\u001b[0m in \u001b[0;36m<module>\u001b[1;34m\u001b[0m\n\u001b[1;32m----> 1\u001b[1;33m \u001b[0mFibonacci\u001b[0m\u001b[1;33m(\u001b[0m\u001b[1;36m9000\u001b[0m\u001b[1;33m)\u001b[0m\u001b[1;33m\u001b[0m\u001b[1;33m\u001b[0m\u001b[0m\n\u001b[0m",
      "\u001b[1;32m~\\AppData\\Local\\Temp\\ipykernel_16248\\3706540199.py\u001b[0m in \u001b[0;36mFibonacci\u001b[1;34m(n)\u001b[0m\n\u001b[0;32m      3\u001b[0m \u001b[1;32mdef\u001b[0m \u001b[0mFibonacci\u001b[0m\u001b[1;33m(\u001b[0m\u001b[0mn\u001b[0m\u001b[1;33m)\u001b[0m\u001b[1;33m:\u001b[0m\u001b[1;33m\u001b[0m\u001b[1;33m\u001b[0m\u001b[0m\n\u001b[0;32m      4\u001b[0m     \u001b[0msqrt_five\u001b[0m \u001b[1;33m=\u001b[0m \u001b[1;36m5\u001b[0m\u001b[1;33m**\u001b[0m\u001b[1;33m(\u001b[0m\u001b[1;36m1\u001b[0m\u001b[1;33m/\u001b[0m\u001b[1;36m2\u001b[0m\u001b[1;33m)\u001b[0m\u001b[1;33m\u001b[0m\u001b[1;33m\u001b[0m\u001b[0m\n\u001b[1;32m----> 5\u001b[1;33m     \u001b[0manswer\u001b[0m \u001b[1;33m=\u001b[0m \u001b[0mround\u001b[0m\u001b[1;33m(\u001b[0m\u001b[1;33m(\u001b[0m\u001b[1;33m(\u001b[0m\u001b[1;33m(\u001b[0m\u001b[1;36m1\u001b[0m\u001b[1;33m+\u001b[0m\u001b[0msqrt_five\u001b[0m\u001b[1;33m)\u001b[0m\u001b[1;33m/\u001b[0m\u001b[1;36m2\u001b[0m\u001b[1;33m)\u001b[0m\u001b[1;33m**\u001b[0m\u001b[0mn\u001b[0m \u001b[1;33m-\u001b[0m \u001b[1;33m(\u001b[0m\u001b[1;33m(\u001b[0m\u001b[1;36m1\u001b[0m\u001b[1;33m-\u001b[0m\u001b[0msqrt_five\u001b[0m\u001b[1;33m)\u001b[0m\u001b[1;33m/\u001b[0m\u001b[1;36m2\u001b[0m\u001b[1;33m)\u001b[0m\u001b[1;33m**\u001b[0m\u001b[0mn\u001b[0m\u001b[1;33m)\u001b[0m \u001b[1;33m/\u001b[0m \u001b[0msqrt_five\u001b[0m\u001b[1;33m)\u001b[0m\u001b[1;33m\u001b[0m\u001b[1;33m\u001b[0m\u001b[0m\n\u001b[0m\u001b[0;32m      6\u001b[0m     \u001b[1;32mreturn\u001b[0m \u001b[0manswer\u001b[0m\u001b[1;33m\u001b[0m\u001b[1;33m\u001b[0m\u001b[0m\n",
      "\u001b[1;31mOverflowError\u001b[0m: (34, 'Result too large')"
     ]
    }
   ],
   "source": [
    "Fibonacci(9000)"
   ]
  },
  {
   "attachments": {},
   "cell_type": "markdown",
   "metadata": {},
   "source": [
    "저런식으로 일반항으로 풀면 \n",
    "숫자가 너무 큰 언어라 웬만한 프로그래밍 언어는 이 코드를 받지 못한다.\n",
    "시간 복잡도 면에서는 가장 빠르지만, 문제 해결(알고리즘 사고력) 에서는 좋은 점수 x\n",
    "\n",
    "-> 계산하지 못하는 이유는 **n 때문에 그렇다."
   ]
  },
  {
   "cell_type": "code",
   "execution_count": 3,
   "metadata": {},
   "outputs": [
    {
     "data": {
      "text/plain": [
       "1322070819480806636890455259752144365965422032752148167664920368226828597346704899540778313850608061963909777696872582355950954582100618911865342725257953674027620225198320803878014774228964841274390400117588618041128947815623094438061566173054086674490506178125480344405547054397038895817465368254916136220830268563778582290228416398307887896918556404084898937609373242171846359938695516765018940588109060426089671438864102814350385648747165832010614366132173102768902855220001"
      ]
     },
     "execution_count": 3,
     "metadata": {},
     "output_type": "execute_result"
    }
   ],
   "source": [
    "3**1000 #int"
   ]
  },
  {
   "cell_type": "code",
   "execution_count": 4,
   "metadata": {},
   "outputs": [
    {
     "ename": "OverflowError",
     "evalue": "(34, 'Result too large')",
     "output_type": "error",
     "traceback": [
      "\u001b[1;31m---------------------------------------------------------------------------\u001b[0m",
      "\u001b[1;31mOverflowError\u001b[0m                             Traceback (most recent call last)",
      "\u001b[1;32m~\\AppData\\Local\\Temp\\ipykernel_16248\\3220765688.py\u001b[0m in \u001b[0;36m<module>\u001b[1;34m\u001b[0m\n\u001b[1;32m----> 1\u001b[1;33m \u001b[1;36m2.9\u001b[0m\u001b[1;33m**\u001b[0m\u001b[1;36m1000\u001b[0m\u001b[1;33m\u001b[0m\u001b[1;33m\u001b[0m\u001b[0m\n\u001b[0m",
      "\u001b[1;31mOverflowError\u001b[0m: (34, 'Result too large')"
     ]
    }
   ],
   "source": [
    "2.9**1000 #float"
   ]
  },
  {
   "attachments": {},
   "cell_type": "markdown",
   "metadata": {},
   "source": [
    "int형의 경우에는 파이썬에서 아주 큰 숫자도 쓸 수 있도록 지원하나, \\\n",
    "float 형은 int 형만큼 큰 수를 지원하지 못한다.\n",
    "따라서 int형안에서 해결하도록 해야한다.\n",
    "(부동소수점 계산 방법을 나중에 더 공부)"
   ]
  },
  {
   "cell_type": "code",
   "execution_count": 5,
   "metadata": {},
   "outputs": [],
   "source": [
    "# 2. 재귀함수\n",
    "\n",
    "def solution(n):\n",
    "    if n == 0: return 0\n",
    "    elif n == 1: return 1\n",
    "    else: return solution(n-1) + solution(n-2)"
   ]
  },
  {
   "cell_type": "code",
   "execution_count": 6,
   "metadata": {},
   "outputs": [
    {
     "name": "stdout",
     "output_type": "stream",
     "text": [
      "0\n",
      "1\n",
      "1\n",
      "2\n",
      "3\n",
      "5\n",
      "8\n",
      "13\n",
      "21\n",
      "34\n"
     ]
    }
   ],
   "source": [
    "for i in range(10):\n",
    "    print(solution(i))"
   ]
  },
  {
   "attachments": {},
   "cell_type": "markdown",
   "metadata": {},
   "source": [
    "잘 나오는 것처럼 보이나\n",
    "solution(41)\n",
    "큰 수를 집어넣으면 엄청난 시간이 걸린다.\n",
    "\n",
    "이유는\n",
    "solution 함수 한 번당 n-1, n-2의 soultion 함수를 부른다.\n",
    "한 숫자의 solution을 부를 때 마다 함수를 부르는 횟수가 2번씩 중첩되서\n",
    "결과적으로 2의 n승만큼의 solution을 부르기 떄문이다.\n",
    "n이 커짐에 따라서 걸리는 시간은 2의 n승에 비례해서 길어진다."
   ]
  },
  {
   "cell_type": "code",
   "execution_count": 2,
   "metadata": {},
   "outputs": [],
   "source": [
    "#3. DP\n",
    "\n",
    "DP = {0: 0, 1: 1}\n",
    "def solution(n):\n",
    "    if n in DP: return DP[n]\n",
    "    else:\n",
    "        DP[n] = solution(n-1) + solution(n-2)\n",
    "        return DP[n]"
   ]
  },
  {
   "cell_type": "code",
   "execution_count": 3,
   "metadata": {},
   "outputs": [
    {
     "name": "stdout",
     "output_type": "stream",
     "text": [
      "0\n",
      "1\n",
      "1\n",
      "2\n",
      "3\n",
      "5\n",
      "8\n",
      "13\n",
      "21\n",
      "34\n"
     ]
    }
   ],
   "source": [
    "for i in range(10):\n",
    "    print(solution(i))"
   ]
  },
  {
   "attachments": {},
   "cell_type": "markdown",
   "metadata": {},
   "source": [
    "solutio을 구한 숫자는 메모리에 저장해둔다.\n",
    "해당 숫자의 solution 함수가 다시 불러졌을 때 이미 답을 구했던 함수인지를 검사한다. #if n in DP: return DP[n]\n",
    "dictionary 를 확인해서 이미 구했던 값이면 그 값을 바로 return해서 좀더 빠름.\n"
   ]
  },
  {
   "cell_type": "code",
   "execution_count": 3,
   "metadata": {},
   "outputs": [
    {
     "data": {
      "text/plain": [
       "23416728348467685"
      ]
     },
     "execution_count": 3,
     "metadata": {},
     "output_type": "execute_result"
    }
   ],
   "source": [
    "solution(80)"
   ]
  },
  {
   "cell_type": "code",
   "execution_count": 6,
   "metadata": {},
   "outputs": [
    {
     "ename": "",
     "evalue": "",
     "output_type": "error",
     "traceback": [
      "\u001b[1;31mCanceled future for execute_request message before replies were done"
     ]
    },
    {
     "ename": "",
     "evalue": "",
     "output_type": "error",
     "traceback": [
      "\u001b[1;31m현재 셀 또는 이전 셀에서 코드를 실행하는 동안 Kernel이 충돌했습니다. 셀의 코드를 검토하여 오류의 가능한 원인을 식별하세요. 자세한 내용을 보려면 <a href='https://aka.ms/vscodeJupyterKernelCrash'> 여기 </a> 를 클릭하세요. 자세한 내용은 Jupyter <a href='command:jupyter.viewOutput'>로그</a>를 참조하세요."
     ]
    }
   ],
   "source": [
    "solution(800)"
   ]
  },
  {
   "attachments": {},
   "cell_type": "markdown",
   "metadata": {},
   "source": [
    "이 방식도 숫자가 커지면 \n",
    "RescursionError: maximum recursion depth exceeded에러가 뜨는데\n",
    "함수는 중첩으로 call 할 때 부를 수 있는 횟수가 정해져 있기에 실패한다."
   ]
  },
  {
   "attachments": {},
   "cell_type": "markdown",
   "metadata": {},
   "source": [
    "코드를 돌릴떄 사용하는 메모리 영역은\\\n",
    "\n",
    "heap 메모리와 stack 메모리 영역 두 개를 주로 사용한다.\n",
    "\n",
    "일반적으로 함수는 call 될때 스택 메모리 영역을 사용한다.\n",
    "(함수 내부 변수와 함수 call 직전 시점 코드 정보가 stack 메모리에 저장됨)\n",
    "(메모리를 필요로 할 때마다 인접한 주소 메모리를 써서 빠르게 접근)\n",
    "(크기 비중은 작지만 빠르게 접근할 수 있는 메모리 영역 Stack)\n",
    "\n",
    "일반적인 코드는 문제가 없지만\n",
    "스택 메모리 영역을 쓰는 함수를 많이 중첩해서 부르게 되면\n",
    "메모리 해제를 하지 못하고 계속 메모리 영역을 차지하게 되서 에러를 보이게 된다."
   ]
  },
  {
   "attachments": {},
   "cell_type": "markdown",
   "metadata": {},
   "source": [
    "# 3가지 시도 모두 오류가 나는데 도대체 어케 풀어야함??\n",
    "\n",
    "오류 업싱 정석으로 풀려면 DP를 재귀함수를 사용하지 않고 만들어야한다."
   ]
  },
  {
   "cell_type": "code",
   "execution_count": 4,
   "metadata": {},
   "outputs": [],
   "source": [
    "def solution(n):\n",
    "    DP = [0,1]\n",
    "    if n == 0 or n == 1: return DP[n]\n",
    "    else:\n",
    "        for i in range(2, n+1):\n",
    "            DP.append(DP[-1] + DP[-2])\n",
    "        return DP[-1]"
   ]
  },
  {
   "cell_type": "code",
   "execution_count": 5,
   "metadata": {},
   "outputs": [
    {
     "name": "stdout",
     "output_type": "stream",
     "text": [
      "0\n",
      "1\n",
      "1\n",
      "2\n",
      "3\n",
      "5\n",
      "8\n",
      "13\n",
      "21\n",
      "34\n"
     ]
    }
   ],
   "source": [
    "for i in range(10):\n",
    "    print(solution(i))"
   ]
  },
  {
   "attachments": {},
   "cell_type": "markdown",
   "metadata": {},
   "source": [
    "DP = [0,1]\n",
    "if n == 0 or n == 1: return DP[n]\n",
    "피보나치 수열의 맨 처음 두 자리를 넣고,\n",
    "\n",
    "  else:\n",
    "        for i in range(2, n+1):\n",
    "            DP.append(DP[-1] + DP[-2])\n",
    "\n",
    "피보나치 수열을 계속 list에 쌓아나가다가 n번쨰가 돼었을 때\n",
    "\n",
    "        return DP[-1]\n",
    "list의 마지막 item을 return한다."
   ]
  },
  {
   "attachments": {},
   "cell_type": "markdown",
   "metadata": {},
   "source": [
    "조언으로 테스트케이스 에러를 줄이고 싶다면,\n",
    "재귀함수를 사용하지 않는 것을 추천한다."
   ]
  },
  {
   "cell_type": "code",
   "execution_count": null,
   "metadata": {},
   "outputs": [],
   "source": []
  }
 ],
 "metadata": {
  "kernelspec": {
   "display_name": "Python 3",
   "language": "python",
   "name": "python3"
  },
  "language_info": {
   "codemirror_mode": {
    "name": "ipython",
    "version": 3
   },
   "file_extension": ".py",
   "mimetype": "text/x-python",
   "name": "python",
   "nbconvert_exporter": "python",
   "pygments_lexer": "ipython3",
   "version": "3.7.9"
  },
  "orig_nbformat": 4
 },
 "nbformat": 4,
 "nbformat_minor": 2
}
