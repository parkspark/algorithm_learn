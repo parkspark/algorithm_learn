{
 "cells": [
  {
   "attachments": {},
   "cell_type": "markdown",
   "metadata": {},
   "source": [
    "## itertools 조합, 순열\n",
    "\n",
    "list 에서 아이템을 두 개 이상 꺼내서 조합하는 문제\n",
    "\n",
    "예로 숫자가 들어있는 리스트 [3,1,4,6] 에서 2숫자를 뽑아 합이 소수인 것?\n",
    "\n",
    "3,1 -> 4 ,false \\\n",
    "3,4 -> 7 ,True\\\n",
    "3,6 -> 9, False \\\n",
    "1,4 -> 5, True\\\n",
    "1,6 -> 7, True\\\n",
    "4,6 -> 10, False\\\n",
    "\n",
    "Answer : 3\n"
   ]
  },
  {
   "cell_type": "code",
   "execution_count": 2,
   "metadata": {},
   "outputs": [],
   "source": [
    "def is_prime(num):\n",
    "    return False if num==1 or any([num % i == 0 for i in range(2, int(num**(1/2)+1))]) else True"
   ]
  },
  {
   "cell_type": "code",
   "execution_count": 3,
   "metadata": {},
   "outputs": [
    {
     "name": "stdout",
     "output_type": "stream",
     "text": [
      "3\n"
     ]
    }
   ],
   "source": [
    "arr = [3, 1, 6, 4]\n",
    "answer = 0\n",
    "for i in range(len(arr)):\n",
    "    for j in range(i+1, len(arr)):\n",
    "        num = arr[i]+arr[j]\n",
    "        if is_prime(num) == True:\n",
    "            answer += 1\n",
    "\n",
    "print(answer)"
   ]
  },
  {
   "attachments": {},
   "cell_type": "markdown",
   "metadata": {},
   "source": [
    "for i in range(len(arr)):\\\n",
    "    for j in range(i+1, len(arr)):\n",
    "\n",
    "arr[i], arr[j] 번째 두개의 수를 뽑는것을 수행할 수 있다.\n",
    "\n",
    "is_prime(num) 소수인지 아닌지를 판별하는 함수에 통과시켜서 Treu 일때만 answer 에 1을 더한다."
   ]
  },
  {
   "attachments": {},
   "cell_type": "markdown",
   "metadata": {},
   "source": [
    "문제는 3, 4개씩 뽑는 문제로 바뀌면??\n",
    "\n",
    "for i in range(len(arr)):\n",
    "    for j in rangg(i+1, len(arr)):\n",
    "        for k in rangg(j+1, len(arr)):\n",
    "            ...\n",
    "이런식으로 for 문을 반복시키면 가독성도 떨어지고 복잡하다.\n",
    "\n",
    "이 때 사용하는것이 itertools의 조합형 함수들 이다.\n",
    "\n",
    "permutations()  # 순열\\\n",
    "인자 : p[, r]\\\n",
    "결과 : r-길이 튜플들, 모든 가능한 순서, 반복되는 요소 없음\\\n",
    "\n",
    "\n",
    "\n",
    "combinations()  # 조합\\\n",
    "인자 : p, r\\\n",
    "결과 : r-길이 튜플들, 정렬된 순서, 반복되는 요소 없음\\\n",
    "n 개의 조합 순서를 바꾼 경우를 고려하지 않음"
   ]
  },
  {
   "cell_type": "code",
   "execution_count": 4,
   "metadata": {},
   "outputs": [
    {
     "name": "stdout",
     "output_type": "stream",
     "text": [
      "(3, 1)\n",
      "(3, 6)\n",
      "(3, 4)\n",
      "(1, 6)\n",
      "(1, 4)\n",
      "(6, 4)\n",
      "3\n"
     ]
    }
   ],
   "source": [
    "from itertools import combinations\n",
    "arr = [3,1,6,4]\n",
    "answer = 0\n",
    "for items in combinations(arr, 2):\n",
    "    print(items)\n",
    "    num = sum(items)\n",
    "    if is_prime(num) == True:\n",
    "        answer += 1\n",
    "\n",
    "print(answer)"
   ]
  },
  {
   "cell_type": "code",
   "execution_count": 5,
   "metadata": {},
   "outputs": [
    {
     "name": "stdout",
     "output_type": "stream",
     "text": [
      "(3, 1, 6)\n",
      "(3, 1, 4)\n",
      "(3, 6, 4)\n",
      "(1, 6, 4)\n",
      "2\n"
     ]
    }
   ],
   "source": [
    "from itertools import combinations\n",
    "arr = [3,1,6,4]\n",
    "answer = 0\n",
    "for items in combinations(arr, 3):\n",
    "    print(items)\n",
    "    num = sum(items)\n",
    "    if is_prime(num) == True:\n",
    "        answer += 1\n",
    "\n",
    "print(answer)"
   ]
  },
  {
   "attachments": {},
   "cell_type": "markdown",
   "metadata": {},
   "source": [
    "### permutations\n",
    "\n",
    "만약 [3,1,4,6] 에서 n개를 뽑아서 더하는 것이 아니라 n개를 이어붙인 수가 소수인지 판별하는 문제라면?\n",
    "\n"
   ]
  },
  {
   "cell_type": "code",
   "execution_count": 8,
   "metadata": {},
   "outputs": [],
   "source": [
    "def is_prime(num):\n",
    "    return False if num==1 or any([num % i == 0 for i in range(2, int(num**(1/2)+1))]) else True"
   ]
  },
  {
   "cell_type": "code",
   "execution_count": 14,
   "metadata": {},
   "outputs": [
    {
     "name": "stdout",
     "output_type": "stream",
     "text": [
      "31\n",
      "36\n",
      "34\n",
      "16\n",
      "14\n",
      "64\n"
     ]
    }
   ],
   "source": [
    "from itertools import combinations\n",
    "arr = [3,1,6,4]\n",
    "answer = 0\n",
    "for items in combinations(arr, 2):\n",
    "    num = int(str(items[0]) + str(items[1]))\n",
    "    print(num)\n",
    "    if is_prime(num) == True:\n",
    "        answer += 1"
   ]
  },
  {
   "attachments": {},
   "cell_type": "markdown",
   "metadata": {},
   "source": [
    "이렇게 combination 을 사용하면 31 과 13 이 구분이 안된다."
   ]
  },
  {
   "cell_type": "code",
   "execution_count": 13,
   "metadata": {},
   "outputs": [
    {
     "name": "stdout",
     "output_type": "stream",
     "text": [
      "31 13\n",
      "36 63\n",
      "34 43\n",
      "16 61\n",
      "14 41\n",
      "64 46\n"
     ]
    }
   ],
   "source": [
    "from itertools import combinations\n",
    "arr = [3,1,6,4]\n",
    "answer = 0\n",
    "for items in combinations(arr, 2):\n",
    "    num1 = int(str(items[0]) + str(items[1]))\n",
    "    num2 = int(str(items[1]) + str(items[0]))\n",
    "    print(num1, num2)\n",
    "    if is_prime(num1) == True:\n",
    "        answer += 1\n",
    "    if is_prime(num2) == True:\n",
    "        answer += 1\n",
    "        "
   ]
  },
  {
   "attachments": {},
   "cell_type": "markdown",
   "metadata": {},
   "source": [
    "for 문 을 2번 돌려도 되나.."
   ]
  },
  {
   "cell_type": "code",
   "execution_count": 15,
   "metadata": {},
   "outputs": [
    {
     "name": "stdout",
     "output_type": "stream",
     "text": [
      "31\n",
      "36\n",
      "34\n",
      "13\n",
      "16\n",
      "14\n",
      "63\n",
      "61\n",
      "64\n",
      "43\n",
      "41\n",
      "46\n",
      "answer = 5\n"
     ]
    }
   ],
   "source": [
    "from itertools import permutations\n",
    "arr = [3,1,6,4]\n",
    "answer = 0\n",
    "for items in permutations(arr, 2):\n",
    "    num = int(str(items[0]) + str(items[1]))\n",
    "    print(num)\n",
    "    if is_prime(num) == True:\n",
    "        answer += 1\n",
    "print(\"answer = {}\".format(answer))"
   ]
  },
  {
   "attachments": {},
   "cell_type": "markdown",
   "metadata": {},
   "source": [
    "## combinations_with_replacement()\n",
    "리스트에서 두 item 을 뽑아서 합이 소수인지 판별할때,\n",
    "같은 itme을 두번 꺼내는 것도 고려해야 한다면.\n",
    "combinations_with_replacement()를 사용하면 된다."
   ]
  },
  {
   "cell_type": "code",
   "execution_count": 16,
   "metadata": {},
   "outputs": [
    {
     "name": "stdout",
     "output_type": "stream",
     "text": [
      "(3, 3)\n",
      "(3, 1)\n",
      "(3, 6)\n",
      "(3, 4)\n",
      "(1, 1)\n",
      "(1, 6)\n",
      "(1, 4)\n",
      "(6, 6)\n",
      "(6, 4)\n",
      "(4, 4)\n",
      "4\n"
     ]
    }
   ],
   "source": [
    "from itertools import combinations_with_replacement\n",
    "arr = [3,1,6,4]\n",
    "answer = 0\n",
    "for items in combinations_with_replacement(arr, 2):\n",
    "    print(items)\n",
    "    num = sum(items)\n",
    "    if is_prime(num) == True:\n",
    "        answer += 1\n",
    "\n",
    "print(answer)"
   ]
  }
 ],
 "metadata": {
  "kernelspec": {
   "display_name": "Python 3",
   "language": "python",
   "name": "python3"
  },
  "language_info": {
   "codemirror_mode": {
    "name": "ipython",
    "version": 3
   },
   "file_extension": ".py",
   "mimetype": "text/x-python",
   "name": "python",
   "nbconvert_exporter": "python",
   "pygments_lexer": "ipython3",
   "version": "3.7.9"
  },
  "orig_nbformat": 4
 },
 "nbformat": 4,
 "nbformat_minor": 2
}
